{
 "cells": [
  {
   "cell_type": "markdown",
   "metadata": {
    "collapsed": true
   },
   "source": [
    "# Report 1\n",
    "Modified Problem 6 from <http://www.mas.ncl.ac.uk/~nmf16/teaching/mas3301/solutions109.pdf>\n",
    "\n",
    "*In an experiment on extra-sensory perception (ESP) a person, A, sits in a sealed room and\n",
    "points at one of four cards, each of which shows a different picture. In another sealed room\n",
    "a second person, B, attempts to select, from an identical set of four cards, the card at which\n",
    "A is pointing. This experiment is repeated ten times.*\n",
    "\n",
    "*Suppose that we consider three possible states of nature, as follows.*\n",
    "\n",
    "*State 1 : There is no ESP and, whichever card A chooses, B is equally likely to select any\n",
    "one of the four cards. That is, subject B has a probability of 0.25 of selecting the correct\n",
    "card.\n",
    "Before the experiment we give this state a probability of 0.7.*\n",
    "\n",
    "*State 2 : Subject B has a probability of 0.50 of selecting the correct card.\n",
    "Before the experiment we give this state a probability of 0.2.*\n",
    "\n",
    "*State 3 : Subject B has a probability of 0.75 of selecting the correct card.\n",
    "Before the experiment we give this state a probability of 0.1.*\n",
    "\n",
    "*If Subject B chooses the card as A, the state is changed. If they choose different cards, the state is not changed.\n",
    "Find our probabilities after the experiment for the three possible states of nature.*"
   ]
  },
  {
   "cell_type": "code",
   "execution_count": 9,
   "metadata": {
    "collapsed": true
   },
   "outputs": [],
   "source": [
    "from thinkbayes2 import Pmf, Suite\n",
    "import thinkplot"
   ]
  },
  {
   "cell_type": "markdown",
   "metadata": {},
   "source": [
    "The goal of the problem is to find the chances that each of the three states of nature is in power at the end of the experiment. Therefore, the __hypothesis__ are: __State 1 is the final state, State 2 is the final state, and State 3 is the final state__ (after the experiment is over).\n",
    "\n",
    "Using Suite from the thinkbayes framework, set the priors (the probabilities of being in a certain state before the experiment and any data). This will require some adjustments to the init method in Suite because it assumes that the priors are all 1, or equally likely."
   ]
  },
  {
   "cell_type": "code",
   "execution_count": 16,
   "metadata": {
    "collapsed": false
   },
   "outputs": [
    {
     "name": "stdout",
     "output_type": "stream",
     "text": [
      "State1 0.7\n",
      "State2 0.2\n",
      "State3 0.1\n"
     ]
    }
   ],
   "source": [
    "states_init = {'State1':0.7, 'State2':0.2, 'State3':0.1}\n",
    "\n",
    "class States(Suite):\n",
    "    def __init__(self, hypos):\n",
    "        Pmf.__init__(self)\n",
    "        for h in hypos:\n",
    "            self.Set(h, states_init[h])\n",
    "        self.Normalize()\n",
    "\n",
    "states = States(states_init)\n",
    "states.Print()"
   ]
  },
  {
   "cell_type": "markdown",
   "metadata": {},
   "source": [
    "At the beginning of the experiment, we know that there is a probability of 0.7 that the state is State 1, 0.2 that it is State 2, and 0.1 that it is State 3. With each repeat of the experiment, the probability of these states changes based on whether persons A and B draw the same card:\n",
    "\n",
    "If they draw the same card, the state changes. If not, the state stays the same.\n",
    "For example, if nature is in State 2 and persons A and B draw the same card, the state will change to either State 1 or 3, both equally probable. If not, the state remains State 2.\n",
    "\n",
    "Our data then is whether or not the card was drawn. Because we want to know the probability of each state after the experiment, it may be easier to formulate the data as follows:\n",
    "__D: Card is not drawn (and therefore the state does not change)__\n",
    "\n",
    "For example:\n",
    "If we are in State1, there is a 25% chance the same card will be drawn, and therefore a 75% chance that the card will not be drawn and keep the state the same.\n",
    "\n",
    "To complete the framework, define the Likelihood function, or P(D|H), that the card will not be drawn and the state will not change given the current state:"
   ]
  },
  {
   "cell_type": "code",
   "execution_count": 18,
   "metadata": {
    "collapsed": false
   },
   "outputs": [
    {
     "name": "stdout",
     "output_type": "stream",
     "text": [
      "State1 0.7\n",
      "State2 0.2\n",
      "State3 0.1\n"
     ]
    }
   ],
   "source": [
    "states_init = {'State1':0.7, 'State2':0.2, 'State3':0.1}\n",
    "\n",
    "class States(Suite):\n",
    "    def __init__(self, hypos):\n",
    "        Pmf.__init__(self)\n",
    "        for h in hypos:\n",
    "            self.Set(h, states_init[h])\n",
    "        self.Normalize()\n",
    "    \n",
    "    def Likelihood(self, data, hypo):\n",
    "        if hypo == 'State1':\n",
    "            return 0.75\n",
    "        if hypo == 'State2':\n",
    "            return 0.5\n",
    "        else: # State3\n",
    "            return 0.25\n",
    "\n",
    "states = States(states_init)\n",
    "states.Print()"
   ]
  },
  {
   "cell_type": "markdown",
   "metadata": {},
   "source": [
    "We run the experiment 10 times, so we need to update our probability 10 time, as each experiment gives us new data. Because the Likelihood is not dependent on the "
   ]
  },
  {
   "cell_type": "code",
   "execution_count": 22,
   "metadata": {
    "collapsed": false
   },
   "outputs": [
    {
     "name": "stdout",
     "output_type": "stream",
     "text": [
      "State1 0.9999999999922293\n",
      "State2 7.770633254043708e-12\n",
      "State3 3.369974982248917e-30\n"
     ]
    }
   ],
   "source": [
    "for i in range(10):\n",
    "    states.Update(0)\n",
    "    states.Update(0)\n",
    "    states.Update(0)\n",
    "states.Print()"
   ]
  },
  {
   "cell_type": "markdown",
   "metadata": {},
   "source": [
    "I think this is a Bayesian problem because it is harder to figure out the chances we are in a certain state if the card is not drawn then to figure out the chances that the card is not drawn when we are in a certain state.\n",
    "However, I confused myself by thinking that the prior, probability that we are in State x before the next experiment, is a combination of the proabilities from assuming that the state before has changed and is not State x. For example, if we are looking at the prior of State 1, isn't there the chance that the previous experiment could have had State 2 and the card was drawn and now at the beginning of the experiment it becomes State 1? The fact that a card was drawn or not drawn in my solution had no effect on the update and makes me wonder whether I solved it wrong or just the problem is not one that needs Bayes' theorem."
   ]
  },
  {
   "cell_type": "code",
   "execution_count": null,
   "metadata": {
    "collapsed": true
   },
   "outputs": [],
   "source": []
  }
 ],
 "metadata": {
  "anaconda-cloud": {},
  "kernelspec": {
   "display_name": "Python [Root]",
   "language": "python",
   "name": "Python [Root]"
  },
  "language_info": {
   "codemirror_mode": {
    "name": "ipython",
    "version": 3
   },
   "file_extension": ".py",
   "mimetype": "text/x-python",
   "name": "python",
   "nbconvert_exporter": "python",
   "pygments_lexer": "ipython3",
   "version": "3.5.2"
  }
 },
 "nbformat": 4,
 "nbformat_minor": 0
}
