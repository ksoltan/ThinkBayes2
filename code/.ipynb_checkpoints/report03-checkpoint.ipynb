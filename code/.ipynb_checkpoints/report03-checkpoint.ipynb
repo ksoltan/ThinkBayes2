{
 "cells": [
  {
   "cell_type": "markdown",
   "metadata": {},
   "source": [
    "# Computational Bayesian: Report 3\n",
    "### Katerina Soltan"
   ]
  },
  {
   "cell_type": "code",
   "execution_count": 37,
   "metadata": {
    "collapsed": true
   },
   "outputs": [],
   "source": [
    "from __future__ import print_function, division\n",
    "\n",
    "import numpy as np\n",
    "\n",
    "import thinkbayes2\n",
    "from thinkbayes2 import Pmf, Cdf, Suite, Beta, Joint\n",
    "import thinkplot\n",
    "\n",
    "from scipy.special import binom\n",
    "import scipy.stats as stats\n",
    "\n",
    "% matplotlib inline"
   ]
  },
  {
   "cell_type": "markdown",
   "metadata": {},
   "source": [
    "The following problems are all from Allen Downey:\n",
    "\n",
    "## Gluten Sensitivity\n",
    "\n",
    "*[This study from 2015](http://onlinelibrary.wiley.com/doi/10.1111/apt.13372/full) showed that many subjects diagnosed with non-celiac gluten sensitivity (NCGS) were not able to distinguish gluten flour from non-gluten flour in a blind challenge.*\n",
    "\n",
    "// Double blind means that neither the participants nor the researchers know which group, control or test, the subjects belong to.\n",
    "Here is a description of the study:\n",
    "\n",
    ">*\"We studied 35 non-CD subjects (31 females) that were on a gluten-free diet (GFD), in a double-blind challenge study. Participants were randomised to receive either gluten-containing ﬂour or gluten-free ﬂour for 10 days, followed by a 2-week washout period and were then crossed over. The main outcome measure was their ability to identify which ﬂour contained gluten.*\n",
    ">*\"The gluten-containing ﬂour was correctly identiﬁed by 12 participants (34%)...\"\n",
    "Since 12 out of 35 participants were able to identify the gluten flour, the authors conclude \"Double-blind gluten challenge induces symptom recurrence in just one-third of patients fulﬁlling the clinical diagnostic criteria for non-coeliac gluten sensitivity.\"*\n",
    "\n",
    "*This conclusion seems odd to me, because if none of the patients were sensitive to gluten, we would expect some of them to identify the gluten flour by chance.  So the results are consistent with the hypothesis that none of the subjects are actually gluten sensitive.*\n",
    "\n",
    "// It seems odd that the study conclusion was that all 12 that identified the gluten were assumed to be sensistive. They do not take into account the possibility that none of these participants are sensitive and identified it based on a good guess.\n",
    "\n",
    "*We can use a Bayesian approach to interpret the results more precisely.  But first we have to make some modeling decisions.*\n",
    "\n",
    "1. *Of the 35 subjects, 12 identified the gluten flour based on resumption of symptoms while they were eating it.  Another 17 subjects wrongly identified the gluten-free flour based on their symptoms, and 6 subjects were unable to distinguish.  So each subject gave one of three responses.  To keep things simple I follow the authors of the study and lump together the second two groups; that is, I consider two groups: those who identified the gluten flour and those who did not.*\n",
    "\n",
    "2. *I assume (1) people who are actually gluten sensitive have a 95% chance of correctly identifying gluten flour under the challenge conditions, and (2) subjects who are not gluten sensitive have only a 40% chance of identifying the gluten flour by chance (and a 60% chance of either choosing the other flour or failing to distinguish).*\n",
    "\n",
    "*Using this model, estimate the number of study participants who are sensitive to gluten.  What is the most likely number?  What is the 95% credible interval?*"
   ]
  },
  {
   "cell_type": "markdown",
   "metadata": {},
   "source": [
    "We want to know how many people are sensitive to the gluten.\n",
    "What do we know? We know that there are 12 participants that identified the gluten, and 23 who did not. The probability of identifying gluten if you are sensitive is 95%, while the probability of identifying it if you are not is 40%. With this information, we know what the likelihood that x people are sensitive to gluten out of this sample. We loop through all of the possible combinations of people who are sensitive who identified, people who are sensitive who did not identify, people who are not sensitive and identified, and people who are not sensitive and did not identify. For every scenario, we calculate the probability that out of this many sensitive people only a couple identified it AND out of this many non_sensitive people only a couple identified it."
   ]
  },
  {
   "cell_type": "code",
   "execution_count": 38,
   "metadata": {
    "collapsed": true
   },
   "outputs": [],
   "source": [
    "def getProbSensitive(x, num_identify, num_not_identify, p_sensitive_identify, p_not_sensitive_identify):\n",
    "    prob = 0\n",
    "    # i people out of all who identified are sensitive.\n",
    "    # This means x - i = n people are sensitive who did not identify\n",
    "    for i in range(num_identify):\n",
    "        n = x - i\n",
    "        # If n is greater than the number of people who didn't identify, impossible scenario\n",
    "        if n > num_not_identify:\n",
    "            prob += 0\n",
    "        else:\n",
    "            # We now have i people that are sensitive and identified correctly, and n people who are sensitive\n",
    "            # who did not identify correctly. What is the probability that this happens?\n",
    "            p_sensitive = stats.binom.pmf(i, x, p_sensitive_identify)\n",
    "            # We have num_identify-i who are not sensitive but identify, and num_not_identify - n who are not\n",
    "            # not sensitive and do not identify. What is the probability that this happens?\n",
    "            not_sensitive_identify = num_identify - i\n",
    "            not_sensitive_not_identify = num_not_identify - n\n",
    "            total_not_sensitive = not_sensitive_identify + not_sensitive_not_identify\n",
    "            p_not_sensitive = stats.binom.pmf(not_sensitive_identify, total_not_sensitive, p_not_sensitive_identify)\n",
    "            prob += p_sensitive * p_not_sensitive\n",
    "    return prob"
   ]
  },
  {
   "cell_type": "markdown",
   "metadata": {},
   "source": [
    "Now our Likelihood function is very simple to write, because it simply loops through all of the possible number of people who are allergic, and calculates how likely our data is (how many people identified and didn't) if that number of people are actually allergic."
   ]
  },
  {
   "cell_type": "code",
   "execution_count": 39,
   "metadata": {
    "collapsed": false
   },
   "outputs": [
    {
     "data": {
      "text/plain": [
       "(0, 7)"
      ]
     },
     "execution_count": 39,
     "metadata": {},
     "output_type": "execute_result"
    },
    {
     "data": {
      "image/png": "[encoded data removed]",
      "text/plain": [
       "<matplotlib.figure.Figure at 0x7f596a8122b0>"
      ]
     },
     "metadata": {},
     "output_type": "display_data"
    }
   ],
   "source": [
    "class Gluten(Suite):\n",
    "    '''data: tuple of how many identified and how many did not\n",
    "    hypo: number of people allergic to gluten\n",
    "    return: how likely this number of people identified and \n",
    "    did not identify the gluten if hypo people are sensitive'''\n",
    "    def Likelihood(self, data, hypo):\n",
    "        identify, not_identify = data\n",
    "        num_allergic = hypo\n",
    "        p_sensitive_identify = 0.95\n",
    "        p_not_sensitive_identify = 0.4\n",
    "        return getProbSensitive(num_allergic, identify, not_identify, p_sensitive_identify, p_not_sensitive_identify)\n",
    "\n",
    "total_subjects = 35\n",
    "num_identified = 12\n",
    "# Prior is distribution of number of allergic people. Start with a uniform prior\n",
    "gluten = Gluten(range(0, total_subjects + 1))\n",
    "gluten.Update((num_identified, total_subjects - num_identified))\n",
    "thinkplot.Hist(gluten)\n",
    "gluten[num_identified]\n",
    "gluten.CredibleInterval(90)"
   ]
  },
  {
   "cell_type": "markdown",
   "metadata": {},
   "source": [
    "Because the probability that a non-sensitive person will identify the gluten is pretty high, the conclusion of the study is highly unlikely. The probability that all 12 people who identified the gluten are all actually sensitive is 0.04%! However, if we had assumed that a person who is not sensitive has a probability of 0.1 of identifying the gluten, the probability that rises to 10%. The 90% credibility interval changes from only 0 to 5 people allergic out of 35 to from 6 to 12. The assumption here about the probability of identifying the gluten matters. The choice to assume a 0.4 chance makes sense because you do not have to be gluten sensitive to taste for example the difference between gluten and gluten-free. This result does speak to the incomplete analysis of the study, but also must note that changing our assumptions will either better validate it or not. We could potentially run this analysis with different probabilities of identification!"
   ]
  },
  {
   "cell_type": "code",
   "execution_count": 40,
   "metadata": {
    "collapsed": false
   },
   "outputs": [
    {
     "data": {
      "text/plain": [
       "(6, 12)"
      ]
     },
     "execution_count": 40,
     "metadata": {},
     "output_type": "execute_result"
    },
    {
     "data": {
      "image/png": "[encoded data removed]",
      "text/plain": [
       "<matplotlib.figure.Figure at 0x7f5965f25cf8>"
      ]
     },
     "metadata": {},
     "output_type": "display_data"
    }
   ],
   "source": [
    "# Only changing the p_not_sensitive_identify variable\n",
    "class Gluten(Suite):\n",
    "    '''data: tuple of how many identified and how many did not\n",
    "    hypo: number of people allergic to gluten\n",
    "    return: how likely this number of people identified and \n",
    "    did not identify the gluten if hypo people are sensitive'''\n",
    "    def Likelihood(self, data, hypo):\n",
    "        identify, not_identify = data\n",
    "        num_allergic = hypo\n",
    "        p_sensitive_identify = 0.95\n",
    "        p_not_sensitive_identify = 0.1\n",
    "        return getProbSensitive(num_allergic, identify, not_identify, p_sensitive_identify, p_not_sensitive_identify)\n",
    "\n",
    "total_subjects = 35\n",
    "num_identified = 12\n",
    "# Prior is distribution of number of allergic people. Start with a uniform prior\n",
    "gluten = Gluten(range(0, total_subjects + 1))\n",
    "gluten.Update((num_identified, total_subjects - num_identified))\n",
    "thinkplot.Hist(gluten)\n",
    "gluten[num_identified]\n",
    "gluten.CredibleInterval(90)\n",
    "#gluten.MaximumLikelihood()"
   ]
  },
  {
   "cell_type": "markdown",
   "metadata": {},
   "source": [
    "## Alien Blasters\n",
    "Problem by Allen Downey:\n",
    "\n",
    "*In preparation for an alien invasion, the Earth Defense League has been working on new missiles to shoot down space invaders. Of course, some missile designs are better than others; let's assume that each design has some probability of hitting an alien ship x.\n",
    "Based on previous tests, the distribution of x in the population of designs is well-modeled by a beta distribution with paramters alpha = 2 and beta = 3. What is the average missile's probability of shooting down an alien?*"
   ]
  },
  {
   "cell_type": "code",
   "execution_count": 41,
   "metadata": {
    "collapsed": false
   },
   "outputs": [
    {
     "data": {
      "text/plain": [
       "0.4"
      ]
     },
     "execution_count": 41,
     "metadata": {},
     "output_type": "execute_result"
    },
    {
     "data": {
      "image/png": "[encoded data removed]",
      "text/plain": [
       "<matplotlib.figure.Figure at 0x7f5965e3e908>"
      ]
     },
     "metadata": {},
     "output_type": "display_data"
    }
   ],
   "source": [
    "shootingDownDistribution = Beta(2, 3)\n",
    "thinkplot.Pdf(shootingDownDistribution.MakePmf())\n",
    "shootingDownDistribution.Mean()"
   ]
  },
  {
   "cell_type": "markdown",
   "metadata": {},
   "source": [
    "*Now suppose the new ultra-secret Alien Blaster 10K is being tested. In a press conference, an EDF general reports that the new design has been tested twice, taking two shots during each test. The results of the test are confidential, so the general won't say how many targets were, but they report: \"The same number of targets were hit in the two tests, so we have reason to think this new design is consistent.\"*\n",
    "\n",
    "*Write a class called **AlienBlaster** that inherits from **Suite** and provides a likelihood function that takes this data -- two tests, two shots each, and a tie -- and computes the likelihood of the data for each hypothetical value of *x*. If you would like a challenge, write a version that works for any number of shots.*"
   ]
  },
  {
   "cell_type": "markdown",
   "metadata": {},
   "source": [
    "We have a prior distribution of how the blaster performs in terms of the probability of hitting a target. We know that two tests were performed with the new blaster. Both had the same results, but we do not know what results they were! The Likelihood function then returns the probability that 2 tests returned with the same results given x, the probability of hitting a target. This would include scenarios where 0, 1, OR 2 targets were hit.\n",
    "\n",
    "P(0 targets hit | x) is easy. The probability of missing two targets is (1-x) * (1-x). Since there were 2 tests, we square this probability: test 1 hit 2 targets AND test 2 hit 2 targets.\n",
    "\n",
    "P(2 targets hit | x) is the same, just with the opposite probability: (x*x) * (x*x)\n",
    "\n",
    "P(1 target hit | x) is trickier because in each test, there are 2 ways that this can be accomplished: the first shot missed or the second shot missed. That means the probability in one test that 1 target is hit is x*(1-x) + (1-x)*x = 2x(1-x). Again, since there are 2 tests, the total probability is 2x(1-x) * 2x(1-x)\n",
    "\n",
    "We return the sum of these separate probabilities because we want the probability of identical test results, where the results could be 0, 1, OR 2 hits."
   ]
  },
  {
   "cell_type": "code",
   "execution_count": 42,
   "metadata": {
    "collapsed": true
   },
   "outputs": [],
   "source": [
    "class AlienBlaster(Suite):\n",
    "    '''data: both tests hit 0, 1, OR 2 targets aka the same number of targets!!!\n",
    "    hypo: probability x of hitting target'''\n",
    "    def Likelihood(self, data, hypo):\n",
    "        x = hypo\n",
    "        prob_both_miss = ((1 - x) ** 2)**2\n",
    "        prob_both_tie = (x * (1 - x) * 2)**2\n",
    "        prob_both_hit = (x ** 2)**2\n",
    "        return prob_both_miss + prob_both_tie + prob_both_hit"
   ]
  },
  {
   "cell_type": "code",
   "execution_count": 43,
   "metadata": {
    "collapsed": false
   },
   "outputs": [
    {
     "data": {
      "text/plain": [
       "0.24689756257561637"
      ]
     },
     "execution_count": 43,
     "metadata": {},
     "output_type": "execute_result"
    },
    {
     "data": {
      "image/png": "[encoded data removed]",
      "text/plain": [
       "<matplotlib.figure.Figure at 0x7f5967ac4b70>"
      ]
     },
     "metadata": {},
     "output_type": "display_data"
    }
   ],
   "source": [
    "shootingDownDistribution = Beta(2, 3)\n",
    "shootingDownDistribution.Update((2, 8))\n",
    "\n",
    "aliens = AlienBlaster(shootingDownDistribution.MakePmf())\n",
    "aliens.Update('data')\n",
    "thinkplot.Pdf(aliens)\n",
    "aliens.Mean()"
   ]
  },
  {
   "cell_type": "markdown",
   "metadata": {},
   "source": [
    "This solution is not general at all. What if we want to have any number of tests with any number of shots?\n",
    "\n",
    "The general way of doing the above calculations is to use a binomial distribution, and add up all of the possible combination of results:"
   ]
  },
  {
   "cell_type": "code",
   "execution_count": 44,
   "metadata": {
    "collapsed": true
   },
   "outputs": [],
   "source": [
    "class AlienBlaster2(Suite):\n",
    "    '''data: tuple of num_tests and num_shots, and that the results were the same in all tests\n",
    "    hypo: probability x of hitting target'''\n",
    "    def Likelihood(self, data, hypo):\n",
    "        num_tests, num_shots = data\n",
    "        x = hypo\n",
    "        total_prob = 0\n",
    "        for hits in range(num_shots + 1):\n",
    "            prob_hitting = stats.binom.pmf(hits, num_shots, x) ** num_tests\n",
    "            total_prob += prob_hitting\n",
    "        return total_prob"
   ]
  },
  {
   "cell_type": "code",
   "execution_count": 45,
   "metadata": {
    "collapsed": false
   },
   "outputs": [
    {
     "data": {
      "text/plain": [
       "0.24689756257561632"
      ]
     },
     "execution_count": 45,
     "metadata": {},
     "output_type": "execute_result"
    },
    {
     "data": {
      "image/png": "[encoded data removed]",
      "text/plain": [
       "<matplotlib.figure.Figure at 0x7f5965ed97f0>"
      ]
     },
     "metadata": {},
     "output_type": "display_data"
    }
   ],
   "source": [
    "shootingDownDistribution = Beta(2, 3)\n",
    "shootingDownDistribution.Update((2, 8))\n",
    "\n",
    "aliens = AlienBlaster2(shootingDownDistribution.MakePmf())\n",
    "aliens.Update((2, 2))\n",
    "thinkplot.Pdf(aliens)\n",
    "aliens.Mean()"
   ]
  },
  {
   "cell_type": "markdown",
   "metadata": {},
   "source": [
    "As a check, I ran the same update with the general solution as with the non-general solution to make sure that the generalization worked. Now, we can see how the posterior probability would change if there were 15 tests with 5 shots each and the results were the same from all of the tests:"
   ]
  },
  {
   "cell_type": "code",
   "execution_count": 46,
   "metadata": {
    "collapsed": false
   },
   "outputs": [
    {
     "data": {
      "text/plain": [
       "0.04467240126961803"
      ]
     },
     "execution_count": 46,
     "metadata": {},
     "output_type": "execute_result"
    },
    {
     "data": {
      "image/png": "[encoded data removed]",
      "text/plain": [
       "<matplotlib.figure.Figure at 0x7f5965ed9278>"
      ]
     },
     "metadata": {},
     "output_type": "display_data"
    }
   ],
   "source": [
    "shootingDownDistribution = Beta(2, 3)\n",
    "shootingDownDistribution.Update((2, 8))\n",
    "\n",
    "aliens = AlienBlaster2(shootingDownDistribution.MakePmf())\n",
    "aliens.Update((15, 5))\n",
    "thinkplot.Pdf(aliens)\n",
    "aliens.Mean()"
   ]
  },
  {
   "cell_type": "markdown",
   "metadata": {},
   "source": [
    "With more tests and more shots, the distribution of the probability of hitting a target shifts left. It is a bit counterintuitive because you would imagine that the more testing and the more consistent the results, the better the shooter is. However, the more shots in a test, the more ways there are to achieve the same results, and since our prior distribution is already shifted left (lower accuracy is more probable than higher), with the so many more ways to miss, the lower probabilities of hitting a target become even more likely. Here is what the posterior would look like if the prior was skewed right:"
   ]
  },
  {
   "cell_type": "code",
   "execution_count": 47,
   "metadata": {
    "collapsed": false
   },
   "outputs": [
    {
     "data": {
      "text/plain": [
       "0.96394120610408507"
      ]
     },
     "execution_count": 47,
     "metadata": {},
     "output_type": "execute_result"
    },
    {
     "data": {
      "image/png": "[encoded data removed]",
      "text/plain": [
       "<matplotlib.figure.Figure at 0x7f5967ceaef0>"
      ]
     },
     "metadata": {},
     "output_type": "display_data"
    }
   ],
   "source": [
    "shootingDownDistribution = Beta(6, 3)\n",
    "\n",
    "aliens = AlienBlaster2(shootingDownDistribution.MakePmf())\n",
    "aliens.Update((15, 5))\n",
    "thinkplot.Pdf(aliens)\n",
    "aliens.Mean()"
   ]
  },
  {
   "cell_type": "markdown",
   "metadata": {},
   "source": [
    "With out initial belief that the blaster is pretty accurate, the added possibilities of hitting the target make this belief even stronger. So, unless the EDF general starts reporting actual numbers, the previous performance of the blaster dominates our expectation for the new model because there is no concrete new data to say otherwise."
   ]
  },
  {
   "cell_type": "markdown",
   "metadata": {},
   "source": [
    "## Rain in Seattle\n",
    "Another problem from Allen Downey:\n",
    "\n",
    "*You're about to get on a plane to Seattle. You want to know if you should bring an umbrella. You call 3 random friends of yours who live there and ask each independently if it's raining. Each of your friends has a 2/3 chance of telling you the truth and a 1/3 chance of messing with you by lying. All 3 friends tell you that \"Yes\" it is raining. What is the probability that it's actually raining in Seattle?*\n",
    "\n",
    "What do we know? We know that you have 3 friends. The probability of them telling the truth is 2/3. Or, if we rephrase, the probability that if it is raining that they say yes is 2/3. We want to know the probability that it is raining.\n",
    "So, the forward probability would be the probability that your friends say yes given it is raining, versus given that they say yes, what is the probability that it is raining.\n",
    "\n",
    "What do we need to know to figure out the probability that your friends will say yes if it is raining? We need to know a) whether it is raining and b) the probability of them telling the truth. If it is raining, the chance that your friend will tell the truth is 2/3. The chance that they will lie is 1/3.\n"
   ]
  },
  {
   "cell_type": "code",
   "execution_count": 48,
   "metadata": {
    "collapsed": true
   },
   "outputs": [],
   "source": [
    "class Rain(Suite):\n",
    "    '''data: the friends response, yes or no, to whether it is raining\n",
    "    hypo: whether it is raining (yes or no)\n",
    "    return: Probability that friend will say yes if it is raining'''\n",
    "    def Likelihood(self, data, hypo):\n",
    "        prob_telling_truth = 2 / 3\n",
    "        if hypo == data:\n",
    "            return prob_telling_truth\n",
    "        else:\n",
    "            return 1 - prob_telling_truth"
   ]
  },
  {
   "cell_type": "markdown",
   "metadata": {},
   "source": [
    "Now we need to figure out what our prior beliefs are. Allen provided a very helpful link, <http://www.wrcc.dri.edu/htmlfiles/hrsofppt.html>, which gives the mean monthly and annual number of hours with measurable precipitation in different cities. From here we see the following data for Seattle-Tacoma AP:\n",
    "\n",
    "\n",
    "                                                                                             | MAX  |\n",
    "                                                                                     |PERCENT| 1-HR |\n",
    "      YEARS       JAN  FEB  MAR  APR  MAY  JUN  JUL  AUG  SEP  OCT  NOV  DEC  | YEAR | HOURS | (IN) |\n",
    "    1965-1999     137  107  104   74   48   37   21   25   40   71  124  134  |  822 |   9.4 |  .63 |\n",
    "\n",
    "The data includes an average number of hours over the whole month that it was raining, an average number of hours over the whole year that it was raining, the percentage of hours it was raining, and the maximum rainfall in inches over a 1 hour period.\n",
    "\n",
    "The relevant data to the problem from which we can construct a prior is in the yearly average. If the mean number of hours it is raining in a year is 822, and there are 365.25 days/year * 24 hours/day = 8766 hours/year, the probability that it is a rainy day is 822 / 8766. Therefore, the prior is 822/8766."
   ]
  },
  {
   "cell_type": "code",
   "execution_count": 49,
   "metadata": {
    "collapsed": false
   },
   "outputs": [
    {
     "name": "stdout",
     "output_type": "stream",
     "text": [
      "no 0.9062286105407256\n",
      "yes 0.09377138945927448\n",
      "no 0.547107438016529\n",
      "yes 0.45289256198347094\n"
     ]
    }
   ],
   "source": [
    "rain = Rain({'yes':822/8766, 'no':1-822/8766})\n",
    "rain.Print()\n",
    "rain.UpdateSet(['yes', 'yes', 'yes'])\n",
    "rain.Print()"
   ]
  },
  {
   "cell_type": "markdown",
   "metadata": {},
   "source": [
    "After performing a Bayesian update with three yes answers from friends, the probability that it is raining goes from 0.09 to 0.45. However, three answers of yes still do not convince you entirely (it is still less than 50% chance that it is raining). If you ask one more friend and they say yes, there is a 0.62 chance! And if instead that fourth friend says no, the chances that is is raining drops dramatically to 0.29. Conclusion? Besides getting an umbrella, get some more truthful friends for a straighter answer!"
   ]
  },
  {
   "cell_type": "code",
   "execution_count": 50,
   "metadata": {
    "collapsed": false
   },
   "outputs": [
    {
     "name": "stdout",
     "output_type": "stream",
     "text": [
      "no 0.547107438016529\n",
      "yes 0.4528925619834709\n",
      "no 0.7072649572649573\n",
      "yes 0.2927350427350427\n"
     ]
    }
   ],
   "source": [
    "rain.UpdateSet(['yes', 'no'])\n",
    "rain.Print()\n",
    "rain_with_no = Rain({'yes':822/8766, 'no':1-822/8766})\n",
    "rain_with_no.UpdateSet(['yes', 'yes', 'yes', 'no'])\n",
    "rain_with_no.Print()"
   ]
  },
  {
   "cell_type": "markdown",
   "metadata": {},
   "source": [
    "A possibly interesting follow up question would be what month is is. We have a distribution of hours of rain per month, so let's use it! To do so, let's assume that there is an equal chance you are flying to Seattle during any given month, although, since we know how many days there are in each month, we can leverage that to tweak our uniform prior to be a little more realistic."
   ]
  },
  {
   "cell_type": "code",
   "execution_count": 51,
   "metadata": {
    "collapsed": false
   },
   "outputs": [],
   "source": [
    "# days_in_month = {'Jan':31, 'Feb':28, 'Mar':31, 'Apr':30, 'May':31, 'Jun':30, \n",
    "#                  'Jul':31, 'Aug':31, 'Sep':30, 'Oct':31, 'Nov':30, 'Dec':31}\n",
    "# hours_in_month = {}\n",
    "# for month, days in days_in_month.items():\n",
    "#     hours_in_month[month] = 24 * days\n",
    "\n",
    "# rain_hours_in_month = {'Jan':137, 'Feb':107, 'Mar':104, 'Apr':74, 'May':48, 'Jun':37, \n",
    "#                        'Jul':21, 'Aug':25, 'Sep':40, 'Oct':71, 'Nov':124, 'Dec':134}\n",
    "\n",
    "# I defined the months by numbers to allow the thinkplot to plot them.\n",
    "days_in_month = {1:31, 2:28, 3:31, 4:30, 5:31, 6:30, \n",
    "                 7:31, 8:31, 9:30, 10:31, 11:30, 12:31}\n",
    "hours_in_month = {}\n",
    "for month, days in days_in_month.items():\n",
    "    hours_in_month[month] = 24 * days\n",
    "\n",
    "rain_hours_in_month = {1:137, 2:107, 3:104, 4:74, 5:48, 6:37, \n",
    "                       7:21, 8:25, 9:40, 10:71, 11:124, 12:134}\n",
    "\n",
    "prob_month = {}\n",
    "for month, hours in hours_in_month.items():\n",
    "    prob_month[month] = rain_hours_in_month[month] / hours\n"
   ]
  },
  {
   "cell_type": "markdown",
   "metadata": {},
   "source": [
    "Since the probability that there is no rain is just 1 - P(rain), the likelihood function will be evaluated for every single month for a hypothesis that it is raining. Since whether a friend is lying or not about the rain is not dependent on time of year from what we know, the likelihood remains 2/3 if it is raining, and 1/3 if it is not."
   ]
  },
  {
   "cell_type": "code",
   "execution_count": 52,
   "metadata": {
    "collapsed": true
   },
   "outputs": [],
   "source": [
    "class Rain(Suite):\n",
    "    '''data: the friends response, yes or no, to whether it is raining\n",
    "    hypo: it is raining during a certain month\n",
    "    return: Probability that friend will say yes if it is raining'''\n",
    "    def Likelihood(self, data, hypo):\n",
    "        prob_telling_truth = 2 / 3\n",
    "        hypo = month \n",
    "        if data == 'yes':\n",
    "            return prob_telling_truth * prob_month[month]\n",
    "        else:\n",
    "            return (1 - prob_telling_truth) * prob_month[month]"
   ]
  },
  {
   "cell_type": "code",
   "execution_count": 53,
   "metadata": {
    "collapsed": false
   },
   "outputs": [
    {
     "name": "stdout",
     "output_type": "stream",
     "text": [
      "1 0.14533789671764688\n",
      "2 0.12567408848082237\n",
      "3 0.11032949823821368\n",
      "4 0.08112047082001993\n",
      "5 0.050921306879175544\n",
      "6 0.040560235410009964\n",
      "7 0.022278071759639303\n",
      "8 0.026521513999570596\n",
      "9 0.04384890314595672\n",
      "10 0.0753210997587805\n",
      "11 0.13593159975246583\n",
      "12 0.1421553150376984\n",
      "1 0.14533789671764694\n",
      "2 0.12567408848082243\n",
      "3 0.11032949823821372\n",
      "4 0.08112047082001997\n",
      "5 0.05092130687917556\n",
      "6 0.040560235410009984\n",
      "7 0.02227807175963931\n",
      "8 0.026521513999570603\n",
      "9 0.04384890314595674\n",
      "10 0.07532109975878053\n",
      "11 0.13593159975246588\n",
      "12 0.14215531503769846\n"
     ]
    },
    {
     "data": {
      "image/png": "[encoded data removed]",
      "text/plain": [
       "<matplotlib.figure.Figure at 0x7f5967c07e10>"
      ]
     },
     "metadata": {},
     "output_type": "display_data"
    }
   ],
   "source": [
    "rain_months = Rain(prob_month)\n",
    "rain_months.Print()\n",
    "thinkplot.Hist(rain_months)\n",
    "rain_months.UpdateSet(['yes', 'yes', 'yes'])\n",
    "rain_months.Print()\n",
    "thinkplot.Hist(rain_months)"
   ]
  },
  {
   "cell_type": "markdown",
   "metadata": {},
   "source": [
    "It looks like the most likely scenario is that it is January and it is raining, with a probability of 0.145. But, our update did not change any of the prior likelihoods! This is because the probability that your friends are lying gets normalized between all of the possible months, since we are doing the update assuming that it is raining, but just during different months. Well, the possibly interesting variation didn't turn out to be very interesting, and is really just forward probability based on prior data, not the update of friends' responses. The reason the original problem is a BPT is because the data has different likelihoods under different hypothesis. In this case, the probability that a friend will lie in the month of October is the same as in January. This is why they have no effect on the data.\n",
    "\n",
    "Could I develop a problem that models the distribution of the lying habits of your friends?"
   ]
  },
  {
   "cell_type": "markdown",
   "metadata": {},
   "source": [
    "## Bug Finding\n",
    "This probelm comes from John D. Cook's website: <http://www.johndcook.com/blog/2010/07/13/lincoln-index/>\n",
    "\n",
    "*\"Suppose you have a tester who finds 20 bugs in your program. You want to estimate how many bugs are really in the program. You know there are at least 20 bugs, and if you have supreme confidence in your tester, you may suppose there are around 20 bugs. But maybe your tester isn't very good. Maybe there are hundreds of bugs. How can you have any idea how many bugs there are? There’s no way to know with one tester. But if you have two testers, you can get a good idea, even if you don’t know how skilled the testers are.*\n",
    "\n",
    "*Suppose two testers independently search for bugs. Let k1 be the number of errors the first tester finds and k2 the number of errors the second tester finds. Let c be the number of errors both testers find. The Lincoln Index estimates the total number of errors as k1 k2 / c [I changed his notation to be consistent with mine].\"\n",
    "So if the first tester finds 20 bugs, the second finds 15, and they find 3 in common, we estimate that there are about 100 bugs. What is the Bayesian estimate of the number of errors based on this data?*"
   ]
  },
  {
   "cell_type": "markdown",
   "metadata": {},
   "source": [
    "In this problem, we know how many bugs tester 1 finds, how many bugs tester 2 finds, and how many bugs them find in common. We do not know how many bugs there are or the probability of either of the testers of finding a bug. To understand what is happening, we can first assign the values we do not know and simulate a bug finding session:"
   ]
  },
  {
   "cell_type": "code",
   "execution_count": 54,
   "metadata": {
    "collapsed": false
   },
   "outputs": [
    {
     "name": "stdout",
     "output_type": "stream",
     "text": [
      "287 686 193\n"
     ]
    }
   ],
   "source": [
    "# Define the unknowns\n",
    "p1 = 0.3 # Probability tester 1 finds any given bug\n",
    "p2 = 0.7 # Probability tester 2 finds any given bug\n",
    "n = 1000 # number of bugs\n",
    "\n",
    "# get a list of True or False for each of n bugs representing whether tester found that bug or not\n",
    "bugsFound1 = np.random.random(n) < p1 # simulate 1 finding bugs\n",
    "bugsFound2 = np.random.random(n) < p2 # simulate 2 finding bugs\n",
    "k1 = np.sum(bugsFound1) # total number of bugs found by 1\n",
    "k2 = np.sum(bugsFound2) # total number of bugs found by 2\n",
    "# by anding the two lists be can find where both are Ture (aka where both found the bug)\n",
    "c = np.sum(bugsFound1 & bugsFound2) # number of bugs they find in common\n",
    "\n",
    "print(k1, k2, c)"
   ]
  },
  {
   "cell_type": "markdown",
   "metadata": {},
   "source": [
    "Now that the process itself makes sense, we can begin to model it and figure out how many bugs there are.\n",
    "\n",
    "First, let's solve the problem we know how to solve. If we know the number of bugs and the probabilities of the testers finding the bugs, we can easily figure out the likelihood that testers 1 and 2 find k1 and k2 bugs, respectively, and c in common:\n",
    "\n",
    "    P(1 finds k1 bugs| n bugs, p1 prob of finding a bug) = binom(k1, n, p1)\n",
    "    P(2 finds k2 bugs| n bugs, p2 prob of finding a bug) = binom(k2, n, p2)\n",
    "    P(1 and 2 find the same c bugs| n bugs, p1 and p2 prob of finding a bug) = binom(c, n, p1 * p2)\n",
    "\n",
    "And the total likelihood will be the product of all of these probabilities because we want the probability that all of them happened (AND)."
   ]
  },
  {
   "cell_type": "code",
   "execution_count": 55,
   "metadata": {
    "collapsed": false
   },
   "outputs": [],
   "source": [
    "class Bugs(Suite, Joint):\n",
    "    '''data: tuple of num bugs found by 1, num bugs found by 2, num bugs found in common\n",
    "    hypo: total bugs in the code, prob of 1 finding a bug, prob of 2 finding a bug\n",
    "    return: probability that 1 will find k1 bugs AND 2 will find k2 bugs AND they will find \n",
    "    c bugs in common if there are n bugs in all and they have probs p1 and p2 of finding them'''\n",
    "    def Likelihood(self, data, hypo):\n",
    "        n, p1, p2 = hypo\n",
    "        k1, k2, c = data # for now let's ignore c....\n",
    "        like1 = stats.binom.pmf(k1, n, p1)\n",
    "        like2 = stats.binom.pmf(k2, n, p2)\n",
    "        likec = stats.binom.pmf(c, n, p1*p2)\n",
    "        return like1 * like2 * likec # probability that tester1 finds k1 bugs AND tester2 finds k2 bugs AND\n",
    "                                        # they find c bugs in common"
   ]
  },
  {
   "cell_type": "markdown",
   "metadata": {},
   "source": [
    "We want to find the distribution of n, p1, and p2 because we do not know them. We are particularly interested in that of n, the number of bugs in the program. Let's enumerate all of the possibilities and perform a Bayesian update with the data that we know: the bugs 1 found, the bugs 2 found, and their bugs in common:"
   ]
  },
  {
   "cell_type": "code",
   "execution_count": 56,
   "metadata": {
    "collapsed": false
   },
   "outputs": [
    {
     "data": {
      "text/plain": [
       "102.74699428259926"
      ]
     },
     "execution_count": 56,
     "metadata": {},
     "output_type": "execute_result"
    },
    {
     "data": {
      "image/png": "[encoded data removed]",
      "text/plain": [
       "<matplotlib.figure.Figure at 0x7f5965eb8b70>"
      ]
     },
     "metadata": {},
     "output_type": "display_data"
    }
   ],
   "source": [
    "# Enumerate all n, p1, p2\n",
    "possibilities = {}\n",
    "num_bugs = np.linspace(20, 1000)\n",
    "prob_1_finds = np.linspace(0, 1, 50)\n",
    "prob_2_finds = np.linspace(0, 1, 50)\n",
    "for n in num_bugs:\n",
    "    for p1 in prob_1_finds:\n",
    "        for p2 in prob_2_finds:\n",
    "            possibilities[(n, p1, p2)] = 1\n",
    "\n",
    "bug = Bugs(possibilities)\n",
    "bug.Update((20, 15, 3))\n",
    "thinkplot.Pdf(bug.Marginal(0))\n",
    "bug.Marginal(0).Mean()"
   ]
  },
  {
   "cell_type": "markdown",
   "metadata": {},
   "source": [
    "Because we want to know the distribution of the bugs, we can get the marginal distribution of n which will loop through all of the combination of n, p1, and p2 and add up the probabilities of each n. The mean of this distribution is about 102.7. The Lincoln index predicted 100: the Bayesian estimation is really close!"
   ]
  },
  {
   "cell_type": "markdown",
   "metadata": {
    "collapsed": true
   },
   "source": [
    "## Lollipops\n",
    "I spent an extremely long time trying to figure out a problem along the lines of:\n",
    "\n",
    "    \"I walk into the room and stumble upon two children eating lollipops. I see 3 wrappers from a big lollipop, 2 from medium lollipops, and 1 from a small one. How long ago did the children start eating?\"\n",
    "    Or\n",
    "    \"There is a volume V of candy left. What is the probability that it is a big lollipop?\"\n",
    "\n",
    "I could assume that each child has a rate r at which they consume the candy, in cm^3/s. I know that a big lollipop is 6cm^3, a medium 4cm^3, and a small is 3cm^3. If I simplify the model of consuming candy to be V0 - V = rt, where V0 is the original size of the candy, V is the volume left, r is the rate of consumption, and t is time passed eating it, I should be able to get a distribution of times the children started eating.\n",
    "\n",
    "I began by trying to figure out the forward probability where I knew all of the values. Say I knew r to be 1cm^3/s, and that t = 10s. I could calculate then the change in V, or dV. I could assume that the chance that it comes from a candy of size s is dV / s. This is kind of similar to the train problem: if I see train number 50, the probability that it is 1 of 50 trains is 1/50, as if it were a piece of a whole. In the case of the candy, however, the shorter the time between the start of eating and checking, the more candy is left, and the more likely it is that it came form a bigger sized chunk.\n",
    "\n",
    "Now that I have a way of determining the probability of a size of candy given the amount of candy left, I can create a distribution of time and rate of consumption of candy, given that I see that a size V is left of it. From the time and rate, the initial volume is determined. So, a simplified problem would be:\n",
    "    \"There is 4 cm^3 of a lollipop left. How long ago was it started?\"\n"
   ]
  },
  {
   "cell_type": "code",
   "execution_count": 69,
   "metadata": {
    "collapsed": true
   },
   "outputs": [],
   "source": [
    "class Lollipop(Suite, Joint):\n",
    "    '''data: volume of lollipop left\n",
    "    hypo: time t it was started ago and r, rate of consumption'''\n",
    "    def Likelihood(self, data, hypo):\n",
    "        t, r = hypo\n",
    "        v_left = data\n",
    "        v_eaten = t * r\n",
    "        v_tot = v_left + v_eaten\n",
    "        return v_left / v_tot"
   ]
  },
  {
   "cell_type": "code",
   "execution_count": 89,
   "metadata": {
    "collapsed": false
   },
   "outputs": [
    {
     "name": "stdout",
     "output_type": "stream",
     "text": [
      "8.77151014641 3.13583954433\n"
     ]
    },
    {
     "data": {
      "text/plain": [
       "(0.0, 26.896551724137932)"
      ]
     },
     "execution_count": 89,
     "metadata": {},
     "output_type": "execute_result"
    },
    {
     "data": {
      "image/png": "[encoded data removed]",
      "text/plain": [
       "<matplotlib.figure.Figure at 0x7f5967253160>"
      ]
     },
     "metadata": {},
     "output_type": "display_data"
    }
   ],
   "source": [
    "from itertools import product\n",
    "time = np.linspace(0, 30, 30)\n",
    "rate = np.linspace(0.01, 10, 40)\n",
    "lollipop = Lollipop(product(time, rate))\n",
    "lollipop.Update(4)\n",
    "thinkplot.Pdf(lollipop.Marginal(0))\n",
    "print(lollipop.Marginal(0).Mean(), lollipop.Marginal(1).Mean())\n",
    "lollipop.Marginal(0).CredibleInterval(90)\n"
   ]
  },
  {
   "cell_type": "code",
   "execution_count": 87,
   "metadata": {
    "collapsed": false
   },
   "outputs": [
    {
     "name": "stderr",
     "output_type": "stream",
     "text": [
      "/home/ksoltan/anaconda3/lib/python3.5/site-packages/matplotlib/axes/_axes.py:519: UserWarning: No labelled objects found. Use label='...' kwarg on individual plots.\n",
      "  warnings.warn(\"No labelled objects found. \"\n"
     ]
    },
    {
     "data": {
      "image/png": "[encoded data removed]",
      "text/plain": [
       "<matplotlib.figure.Figure at 0x7f596781cbe0>"
      ]
     },
     "metadata": {},
     "output_type": "display_data"
    }
   ],
   "source": [
    "thinkplot.Contour(lollipop, pcolor=True)\n",
    "thinkplot.Config(xlabel='time started ago', ylabel='rate of consumption')"
   ]
  },
  {
   "cell_type": "markdown",
   "metadata": {},
   "source": [
    "If we see a 4cm^3 peace of candy, it is most likely that it has been just started because we see all of its pieces, just like with the train problem. By taking the mean, we get a more accurate estimate of how long ago the lollipop was actually started. The mean is about 8.8 seconds in the marginal distribution of time and 3.1 cm^3/s in the marginal distribution of rate of consumption. But, what does this problem really mean? What would multiple updates be? If we knew the time interval between the two observations of how much of the candy is left, we could figure out the rate at which it is being consumed and then there would be no problem. However, if we do not know the time, then what good is this observation in the first place?\n",
    "\n",
    "I think by trying to solve this simpler problem I have set myself up for solving the more interesting problem of figuring out how long ago the kids started eating candy. However, there is not only the suspicion that my solution was not very correct, but also the difference between the problems that in this one, a whole candy is not eaten, but in the other, multiple whole candies are. I think, however, that if I treat them as sums of volumes of candy eaten, it can be a similar problem."
   ]
  },
  {
   "cell_type": "markdown",
   "metadata": {},
   "source": [
    "## Project Ideas\n",
    "My current ideas for the project are:\n",
    "\n",
    "        1) Date the book using various parameters, like the lexicon. I would download a bunch of books from Gutenburg, some dictionaries, and do some analysis on that\n",
    "        \n",
    "        2) Analyze this data set: <http://www.tdcj.state.tx.us/death_row/dr_executed_offenders.html> where statistics about inmates and their last words are stored. It would be interesting to gauge the tone of each of the last statements and compare it to the years spent in prison, the age of the person, and other characteristics to see if there is any correlation. I'm not yet sure where Bayesian would come in, but I thought this data set was pretty cool.\n",
    "        \n",
    "        3) Continuing analysis of candy licking, incorporating functions of the saliva flow: <http://www.math.fsu.edu/~moore/SeminarFiles/Dissolution14.pdf>. I think if I am able to phrase a better question, this may be interesting to pursue."
   ]
  },
  {
   "cell_type": "code",
   "execution_count": null,
   "metadata": {
    "collapsed": true
   },
   "outputs": [],
   "source": []
  }
 ],
 "metadata": {
  "kernelspec": {
   "display_name": "Python [Root]",
   "language": "python",
   "name": "Python [Root]"
  },
  "language_info": {
   "codemirror_mode": {
    "name": "ipython",
    "version": 3
   },
   "file_extension": ".py",
   "mimetype": "text/x-python",
   "name": "python",
   "nbconvert_exporter": "python",
   "pygments_lexer": "ipython3",
   "version": "3.5.2"
  }
 },
 "nbformat": 4,
 "nbformat_minor": 0
}
