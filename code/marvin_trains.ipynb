{
 "cells": [
  {
   "cell_type": "markdown",
   "metadata": {},
   "source": [
    "# Marvin and the Trains\n",
    "## Determining the interarrival time of trains based on one man's dinner habits using Bayesian statistics\n",
    "\n",
    "### Katerina Soltan\n",
    "#### A project for Allen Downey's Computational Bayesian Statistics course, inspired by his Red Line question in Chapter 8 of Think Bayes\n",
    "This work is licensed under a <a rel=\"license\" href=\"http://creativecommons.org/licenses/by/4.0/\">Creative Commons Attribution 4.0 International License</a>."
   ]
  },
  {
   "cell_type": "code",
   "execution_count": 7,
   "metadata": {
    "collapsed": true
   },
   "outputs": [],
   "source": [
    "from __future__ import print_function, division\n",
    "\n",
    "import numpy as np\n",
    "\n",
    "import thinkbayes2\n",
    "from thinkbayes2 import Pmf, Cdf, Suite, Beta, Joint\n",
    "import thinkplot\n",
    "\n",
    "from scipy.special import binom\n",
    "import scipy.stats as stats\n",
    "\n",
    "% matplotlib inline"
   ]
  },
  {
   "cell_type": "markdown",
   "metadata": {},
   "source": [
    "## The Problem\n",
    "On this [reddit chain](https://www.reddit.com/r/math/comments/cavoz/what_are_some_of_your_favorite_logic_or_tricky/), a post by an unknown redditor stated the following:\n",
    ">*Marvin gets off work at random times between 3 and 5 pm. His mother lives uptown and girlfriend downtown. He takes the first subway that comes in either direction and eats dinner with who ever he gets delivered to. Marvin's mother complains that Marvin never comes to have dinner with her but he says she has a 50 - 50 chance. Marvin has had dinner with his mother 2 times in the last 20 working days.*\n",
    "\n",
    "Although the post didn't pose a question, we could imagine a few interesting ones to answer:\n",
    "\n",
    "**What is the chance that his mother will have dinner with Marvin on a given day? How often do the trains come?**\n",
    "\n",
    "## The Model\n",
    "Let's start with the first question. If we assume that Marvin indeed leaves work at random time intervals, he has an equal chance of getting off from work at any time, and since in a Bayesian update the likelihoods * priors are normalized, the chance of Marvin leaving from work at a certain time does not affect anything. If subways come at regular intervals, and if we don't know anything about a specific subway system, the chances that he will get on a train that goes uptown vs downtown is indeed 50/50 (half of the time they go one way, the other half they do the return trip). Therefore, his mother has an equal chance of dining with him as does his girlfriend.\n",
    "\n",
    "However, it is not as simple as it seems! How could Marvin have had only 2 dinners with her in the past 20 days? The problem could be in the interrarival time of the trains.\n",
    "\n",
    "For simplicity, let's assume that trains are always on schedule, and both an inbound train and outbound train come every couple of minutes. They do not come at the same time and are displaced from each other by a certain time interval. If the interval between the departure of an inbound train and arrival of an outbound train is greater than the interval between the departure of an outbound train and the arrival of an inbound train, a passenger has a higher likelihood of getting on the outbound train.\n",
    "\n",
    "In this model, only if the trains came every 8 minutes and were displaced 4 minutes from one another would Marvin have a 50/50 chance of getting on any train. The likelihood that his mother has dinner with Marvin is therefore directly proportional to the ratio of interarrival times between the outbound and inbound trains.\n",
    "\n",
    "Suppose trains come every 8 minutes, and outbound trains come 1 minute later than inbound trains. The schedule will look something like this, where **i** denotes the departure of an inbound train and **o** the departure of an outbound train:\n",
    "\n",
    "**i** <--1min--> **o** <-----7min-----> **i** <--1min--> **o** <-----7min-----> **i** <--1min--> **o** <-----7min----->>>\n",
    "\n",
    "Marvin has a 7/8 chance of arriving in a time interval between an outbound and inbound train and an only 1/8 chance of arriving between the departure of an inbound train and arrival of an outbound one. Therefore, the probability that he will go uptown to his mother at any given time is 1/8 and not 1/2.\n",
    "\n",
    "What is the likelihood that Marvin's subway system has such a train time distribution? We know that he has gone on inbound trains 18 times and headed outbound only 2 times. We can model this scenario with a binomial probability because we have 2 cumulatively exhaustive choices:"
   ]
  },
  {
   "cell_type": "code",
   "execution_count": 9,
   "metadata": {
    "collapsed": false
   },
   "outputs": [
    {
     "name": "stdout",
     "output_type": "stream",
     "text": [
      "0.0014124236484475564\n"
     ]
    }
   ],
   "source": [
    "timeBtwnInOut = 1\n",
    "timeBtwnOutIn = 7\n",
    "timeTotal = timeBtwnInOut + timeBtwnOutIn\n",
    "\n",
    "pOut = timeBtwnInOut / timeTotal # Marvin would catch the outbound train\n",
    "pIn = 1 - pOut # Marvin would catch the inbound train\n",
    "\n",
    "# Marvin went inbound 18 times and outbound 2 times\n",
    "num_inbound = 18\n",
    "num_outbound = 2\n",
    "like = pIn ** num_inbound * pOut ** num_outbound\n",
    "print(like)"
   ]
  },
  {
   "cell_type": "markdown",
   "metadata": {},
   "source": [
    "There is a 0.14 chance that Marvin managed to catch his trains as his mother has observed. Using this forward probability calculation, where we know all of the variables, we can answer a more complicated question: What is the time distribution between the trains? We have two variables, time between an inbound and outbound, and time between the outbound and the next inbound train. We want to know which is the most likely pair of times.\n",
    "\n",
    "## Implementation\n",
    "\n",
    "We start by enumerating the possible time values. It is highly unlikely for trains to arrive at the exact same time, so the bottom range of time between trains will be 0.1 minutes, while the maximum will be about 20 minutes. Using np.linspace, I created 50 values in this range, from 0.1 to 20 inclusive. Next, we want to enumerate every pair of times; I used product from itertools.\n",
    "\n",
    "Next, I will create a Suite class, using the framework from thinkabyes2.py. The Suite class stores the hypothesis (priors) in a pmf and provides convenient functions to perform Bayesian updates on it. The class contains a function called Likelihood that takes in data and the hypothesis as a parameter and returns the likelihood of the data under the hypothesis. A call to Update will go through all of the hypothesis and update them with the corresponding likelihood to obtain the posterior distribution. In the case of our trains problem, the Likelihood function will return the likelihood of the observed data (going uptown twice and downtown 20 times) given one of the hypothesis (interarrival times of the outbound and inbound trains)."
   ]
  },
  {
   "cell_type": "code",
   "execution_count": 11,
   "metadata": {
    "collapsed": false
   },
   "outputs": [
    {
     "data": {
      "text/plain": [
       "0.00017327113436039443"
      ]
     },
     "execution_count": 11,
     "metadata": {},
     "output_type": "execute_result"
    }
   ],
   "source": [
    "from itertools import product\n",
    "\n",
    "timeBtwnInOut = np.linspace(0.1, 10, 100) # inbound left, outbound coming\n",
    "timeBtwnOutIn = np.linspace(0.1, 10, 100) # outbound left, inbound coming\n",
    "\n",
    "# All combinations of timeBtwnInOut and timeBtwnOutIn\n",
    "timeDistributions = product(timeBtwnInOut, timeBtwnOutIn)\n",
    "\n",
    "class Trains(Suite, Joint):\n",
    "    '''data: tuple of number of times Marvin goes (outbound, inbound)\n",
    "    hypo: (timeIO, timeOI) time between in out, and time between out and in\n",
    "    returns: likelihood that Marvin managed to catch the trains in that pattern given time distribution'''\n",
    "    def Likelihood(self, data, hypo):\n",
    "        num_outbound, num_inbound = data\n",
    "        timeIO, timeOI = hypo\n",
    "        pO = timeIO / (timeIO + timeOI)\n",
    "        return pO ** num_outbound * (1 - pO) ** num_inbound\n",
    "\n",
    "trains = Trains(timeDistributions)\n",
    "trains.Update((2, 18))"
   ]
  },
  {
   "cell_type": "markdown",
   "metadata": {},
   "source": [
    "## Results\n",
    "After performing the Bayesian update, the distributions of each variable, independent of the other, can be extracted by calling the Marginal function. Marginal(0) returns the distribution of the first variable, while Marginal(1) returns the second."
   ]
  },
  {
   "cell_type": "code",
   "execution_count": 19,
   "metadata": {
    "collapsed": false
   },
   "outputs": [
    {
     "name": "stderr",
     "output_type": "stream",
     "text": [
      "/home/ksoltan/anaconda3/lib/python3.5/site-packages/matplotlib/axes/_axes.py:519: UserWarning: No labelled objects found. Use label='...' kwarg on individual plots.\n",
      "  warnings.warn(\"No labelled objects found. \"\n"
     ]
    },
    {
     "data": {
      "text/plain": [
       "1.25866359832452"
      ]
     },
     "execution_count": 19,
     "metadata": {},
     "output_type": "execute_result"
    },
    {
     "data": {
      "image/png": "[encoded data removed]",
      "text/plain": [
       "<matplotlib.figure.Figure at 0x7f006717b4a8>"
      ]
     },
     "metadata": {},
     "output_type": "display_data"
    }
   ],
   "source": [
    "# Distribution of time between inbound and outbound train\n",
    "thinkplot.Pdf(trains.Marginal(0))\n",
    "thinkplot.Config(xlabel='Time between inbound and outbound train',\n",
    "                 ylabel='PMF')\n",
    "trains.Marginal(0).MaximumLikelihood()\n",
    "trains.Marginal(0).Mean()"
   ]
  },
  {
   "cell_type": "code",
   "execution_count": 20,
   "metadata": {
    "collapsed": false
   },
   "outputs": [
    {
     "name": "stderr",
     "output_type": "stream",
     "text": [
      "/home/ksoltan/anaconda3/lib/python3.5/site-packages/matplotlib/axes/_axes.py:519: UserWarning: No labelled objects found. Use label='...' kwarg on individual plots.\n",
      "  warnings.warn(\"No labelled objects found. \"\n"
     ]
    },
    {
     "data": {
      "text/plain": [
       "6.7149752643068279"
      ]
     },
     "execution_count": 20,
     "metadata": {},
     "output_type": "execute_result"
    },
    {
     "data": {
      "image/png": "[encoded data removed]",
      "text/plain": [
       "<matplotlib.figure.Figure at 0x7f00671818d0>"
      ]
     },
     "metadata": {},
     "output_type": "display_data"
    }
   ],
   "source": [
    "# Distribution of time between outbound and inbound train\n",
    "thinkplot.Pdf(trains.Marginal(1))\n",
    "thinkplot.Config(xlabel='Time between outbound and inbound train',\n",
    "                 ylabel='PMF')\n",
    "trains.Marginal(1).Mean()"
   ]
  },
  {
   "cell_type": "markdown",
   "metadata": {},
   "source": [
    "The graphs of the marginal distributions of the two variables show that the distribution of time between when an inbound train leaves and an outbound train leaves peaks at around 36 seconds (0.6 min) while the distribution of time between when an outbound train departing and an inbound train arriving grows linearly proportional to the duration. These results make sense because the longer the interval between the outbound and inbound train, the more likely Marvin is to arrive during that interval and take an inbound train. The shorter the time between a leaving inbound and arriving outbound train, the more likely Marvin was to have only caught the outbound train twice in 20 days.\n",
    "\n",
    "The mean values for the two distribution are about 1.26 minutes between an inbound and outbound train and 6.71 minutes between an outbound and inbound trains. The original random estimation of 1 and 7 minutes, respectively, was actually quite close to what the approximation tells us!\n",
    "\n",
    "In terms of the chances of Marvin's mother eating dinner with him, using the mean values, the probability is 1.26/6.71 ~ 0.188, quite different from a 50/50 chance.\n",
    "\n",
    "## Conclusions\n",
    "By using a Bayesian analysis on Marvin's strange behavior, we were able to determine the most likely train interarrival times and consequently the probability of his mother dining with him.\n",
    "\n",
    "This problem could have been solved much simpler by defining the interarrival times of the trains as a ratio and not keeping two variables. This method would have been sufficient to determine the chances of Marvin going to his mother for dinner, but would not provide any specific interrarival times, only relative ones.\n",
    "\n",
    "Interesting extensions of this problem could include taking into account the fact that trains do not keep perfectly to schedule and introduce some variability in the times. An outbound train could be followed by an outbound train instead of an inbound one in some cases. By collecting some data using a method similar to the one used by Allen Downey in the Redline problem, we could possibly create a Markov chain (like a simple [random walk](https://en.wikipedia.org/wiki/Random_walk#As_a_Markov_chain) problem) that would give the probability of a certain train coming at a certain time. Also, if such data collection was performed over many subway operations, it would be possible to determine which city Marvin most likely lives in based on the interarrival times of the different subways."
   ]
  }
 ],
 "metadata": {
  "kernelspec": {
   "display_name": "Python [Root]",
   "language": "python",
   "name": "Python [Root]"
  },
  "language_info": {
   "codemirror_mode": {
    "name": "ipython",
    "version": 3
   },
   "file_extension": ".py",
   "mimetype": "text/x-python",
   "name": "python",
   "nbconvert_exporter": "python",
   "pygments_lexer": "ipython3",
   "version": "3.5.2"
  }
 },
 "nbformat": 4,
 "nbformat_minor": 0
}
