{
 "cells": [
  {
   "cell_type": "markdown",
   "metadata": {},
   "source": [
    "# Report 1\n",
    "Katerina Soltan"
   ]
  },
  {
   "cell_type": "markdown",
   "metadata": {},
   "source": [
    "The next few problems were taken from Allen Downey's blog, Probably Overthinking It: <http://allendowney.blogspot.com/2011/10/my-favorite-bayess-theorem-problems.html>\n",
    "\n",
    "## Elvis\n",
    "*Elvis Presley had a twin brother who died at birth.  What is the probability that Elvis was an identical twin?\n",
    "To answer this one, you need some background information: According to the Wikipedia article on twins:  ''Twins are estimated to be approximately 1.9% of the world population, with monozygotic twins making up 0.2% of the total---and 8% of all twins.''*\n",
    "\n",
    "To me at first glance that there is nothing to solve here. We are given that Elvis had a twin brother! However, there are two types of twins: identical, and fraternal, and we are asked to find the probability that Elvis has an *identical* brother.\n",
    "\n",
    "Our hypothesis are as follows: \n",
    "__Elvis was an identical twin__ and __Elvis was a fraternal twin__.\n",
    "\n",
    "\n",
    "Because monozygotic twins make up 8% of all twins the priors are:\n",
    "\n",
    "__p(Elvis was an identical twin)__ = 8;\n",
    "__p(Elvis was an identical twin)__ = 92\n",
    "\n",
    "Everything will be normalized, and I am therefore keeping these as percentages instead of probabilities (0.08 and 0.92).\n",
    "\n",
    "The data we have is that Elvis had a __male__ twin. The probability that Elvis's twin is male, given that Elvis is an identical twin (and male), is 1.\n",
    "\n",
    "__p(Twin is male | Elvis was an identical twin)__ = 1\n",
    "\n",
    "If we assume that there is a 50/50 chance that a baby is male or female, then the probability that Elvis's twin is male, given that they are fraternal twins, is 1 / 2.\n",
    "\n",
    "__p(Twin is male | Elvis was a fraternal twin)__ = 1 / 2\n",
    "\n",
    "Using Bayes' Theorem, we multiply the priors by the conditional probability to get the unnormalized posteriors, normalize, and get the probability of Elvis and his twin being identical. I completed this process using the table method, as depicted in the picture below:\n"
   ]
  },
  {
   "cell_type": "markdown",
   "metadata": {},
   "source": [
    "<img src=\"elvis.png\">"
   ]
  },
  {
   "cell_type": "markdown",
   "metadata": {},
   "source": [
    "## Smoking and Cancer\n",
    "\n",
    "*According to the CDC, ''Compared to nonsmokers, men who smoke are about 23 times more likely to develop lung cancer and women who smoke are about 13 times more likely.''\n",
    "If you learn that a woman has been diagnosed with lung cancer, and you know nothing else about her, what is the probability that she is a smoker?*\n",
    "\n",
    "We start with our hypothesis: the woman is a __smoker__ and __non-smoker__.\n",
    "With some research on the Internet, we can find that in the US, 14.8% of women smoke. Therefore, our priors are as follows:\n",
    "\n",
    "__p(smoker)__ = 14.8\n",
    "__p(non-smoker)__ = 85.2\n",
    "\n",
    "We are told that the women has lung cancer. What is the likelihood that she has lung cancer if she is a smoker vs non-smoker? We know that women who smoke are 13 times more likely to develop lung cancer as those who do not smoke.\n",
    "\n",
    "__p(lung cancer|smoker) = 13__\n",
    "__p(lung cancer|non-smoker) = 1__\n",
    "\n",
    "Putting this into our table and applying Bayes' Theorem, we discover that the probability that the women is a smoker is 69%.\n",
    "\n",
    "<img src=\"smoking.png\">\n"
   ]
  },
  {
   "cell_type": "markdown",
   "metadata": {
    "collapsed": true
   },
   "source": [
    "## Monty\n",
    "*Suppose you're on a game show, and you're given the choice of three doors: Behind one door is a car; behind the others, goats. You pick a door, say Door A [but the door is not opened], and the host, who knows what's behind the doors, opens another door, say Door B, which has a goat. He then says to you, \"Do you want to pick Door C?\" Is it to your advantage to switch your choice?*\n",
    "\n",
    "*The answer depends on the behavior of the host if the car is behind Door A.  In this case the host can open either B or C.  Suppose he chooses B with probability p and C otherwise.  What is the probability that the car is behind Door A (as a function of p)?*\n",
    "\n",
    "To start off, the car could be behind any of the doors: A, B, or C. Let's denote our hypothesis as __A__, __B__, and __C__. There is an equal chance that the car is behind any of these doors, so the priors will all be 1.\n",
    "\n",
    "Now is the tricky part. Our data is that __Monty opens door B__.\n",
    "\n",
    "What is the probability that Monty will open door B if the car is behind door A? He has a choice of B or C, and we are told that he will choose B with a probability *p*.\n",
    "\n",
    "What is the probability that Monty will open door B if the car is behind door B? 0! He will not open the door with the car.\n",
    "\n",
    "What is the probability that Monty will open door B if the car is behind door C? 1 because he opens either door B or C, and since C has a car, he has no choice.\n",
    "\n",
    "Applying Bayes' Theorem we get that the car is behind door A with a probability of p / (1 + p), not behind B, and behind C with a probability of 1 / (1 + p).\n",
    "\n",
    "<img src=\"monty.png\">"
   ]
  },
  {
   "cell_type": "markdown",
   "metadata": {},
   "source": [
    "## Blinky Monty\n",
    "\n",
    "*Suppose you are on Let's Make a Deal and you are playing the Monty Hall Game, with one twist.  Before you went on the show you analyzed tapes of previous shows and discovered that Monty has a tell: when the contestant picks the correct door, Monty is more likely to blink.*\n",
    "\n",
    "*Of the 18 shows you watched, the contestant chose the correct door 5 times, and Monty blinked three of those times.  Of the other 13 times, Monty blinked three times.*\n",
    "\n",
    "*Assume that you choose Door A.  Monty opens door B and blinks.  What should you do, and what is your chance of winning?*\n",
    "\n",
    "I started with the same hypothesis as in the above Monty Hall problem: __A__, __B__, and __C__ are the doors with the cars behind them. There is an equal chance of them being behind each of these doors. In this version, Monty picks either B or C at random, which is to say with a 50/50 chance.\n",
    "\n",
    "The first piece of data we have is that Monty opens door B.\n",
    "Therefore, if the car is behind door A, there is a chance of 1/2 that Monty opens door B. If the car is behind door B, no chance that he opens door B. If the car is behind door C, he opens door B definitely, with a probability of 1.\n",
    "\n",
    "Now, we have another piece of data: Monty blinks. We can apply Bayes Theorem again to the posteriors that we just calculated. According to the tapes, there is a 3/5 chance that Monty blinks when the correct door is chosen, and a 3/13 chance that he blinks if the incorrect door is chosen. You have chosen door A, so the probability that he blinks if the car is behind A is 3/5, and the probability he blinks if the car is behind C is 3/13. And from the table we can see that you have a 13/23 ~ 56.5% chance of winning if you stick with door A.\n",
    "\n",
    "<img src=\"blinky.png\">"
   ]
  },
  {
   "cell_type": "markdown",
   "metadata": {},
   "source": [
    "## Zombies\n",
    "The following problem was taken from <https://www.reddit.com/r/probabilitytheory/comments/500vjf/what_is_the_logic_behind_solving_this_question/>.\n",
    "\n",
    "*The fictional university of ZombieLand has __n__ students volunteer for the role of Killing Assistants, student volunteers who help in smooth killing of zombies in the campus. Every student can either manage to shoot a zombie or miss it.*\n",
    "\n",
    "*Out of these __n__ Killing Assistants, __m__ students try to shoot the zombie fairly, that is, they are unbiased, while the rest of them are biased. The probability that a zombie will be hit by a shot if the Killing Assistant is biased is 2/3, otherwise the probability is 1/2.*\n",
    "\n",
    "*Little Harry figures out this mess by selecting a Killing Assistant randomly. He tricks that particular Killing Assistant into shooting the same zombie twice. The first time, the Killing Assistant shoots the zombie, while the other time, he ends up missing it.*\n",
    "\n",
    "*Harry wants to know what are the chances that the selected Killing Assistant was ubiased.*\n",
    "\n",
    "After discovering sympy, I resolved this problem in code. First, the all-necessary imports:\n"
   ]
  },
  {
   "cell_type": "code",
   "execution_count": 18,
   "metadata": {
    "collapsed": true
   },
   "outputs": [],
   "source": [
    "from thinkbayes2 import Pmf, Suite\n",
    "import thinkplot\n",
    "from sympy import symbols"
   ]
  },
  {
   "cell_type": "markdown",
   "metadata": {},
   "source": [
    "We start with two hypothesis: the Killing assistant is __unbiased__ or __biased__. There is a *m/n* chance that the assistant, at first glance, is unbiased. Therefore:\n",
    "\n",
    "__p(unbiased) = *m/n*__ and __p(biased) = *1 - m/n*__\n",
    "\n",
    "I have created a pmf function with these hypothesis and their corresponding probabilities:"
   ]
  },
  {
   "cell_type": "code",
   "execution_count": 19,
   "metadata": {
    "collapsed": false
   },
   "outputs": [],
   "source": [
    "n = symbols('n')\n",
    "m = symbols('m')\n",
    "pmf = Pmf({'unbiased': (m/n), 'biased': (1 - m/n)})"
   ]
  },
  {
   "cell_type": "markdown",
   "metadata": {},
   "source": [
    "We have a piece of evidence: __The Killing Assistant shoots the zombie__.\n",
    "If the student is unbiased, the chances that they will hit the zombie is 1/2. Otherwise, the chances are 2/3. Computing the posteriors using Bayes Theorem, we get that the chances the student is unbiased is *3m/(4n-m)*."
   ]
  },
  {
   "cell_type": "code",
   "execution_count": 20,
   "metadata": {
    "collapsed": false
   },
   "outputs": [
    {
     "name": "stdout",
     "output_type": "stream",
     "text": [
      "biased (-0.666666666666667*m/n + 0.666666666666667)/(-0.166666666666667*m/n + 0.666666666666667)\n",
      "unbiased 0.5*m/(n*(-0.166666666666667*m/n + 0.666666666666667))\n"
     ]
    }
   ],
   "source": [
    "pmf['unbiased'] *= 1/2\n",
    "pmf['biased'] *= 2/3\n",
    "pmf.Normalize()\n",
    "pmf.Print()"
   ]
  },
  {
   "cell_type": "markdown",
   "metadata": {},
   "source": [
    "We have another piece of evidence: __The Killing Assistant misses the zombie__.\n",
    "Applyng Bayes' Theorem again, we use our calculated posteriors as the new priors. If the student is unbiased, the chances they will miss is 1/2. The chances a biased one will miss the zombie is 1/3.\n",
    "\n",
    "Let's perform another update with the Pmf:\n"
   ]
  },
  {
   "cell_type": "code",
   "execution_count": 21,
   "metadata": {
    "collapsed": false
   },
   "outputs": [
    {
     "data": {
      "text/plain": [
       "0.25*m/(0.0277777777777778*m + 0.222222222222222*n)"
      ]
     },
     "execution_count": 21,
     "metadata": {},
     "output_type": "execute_result"
    }
   ],
   "source": [
    "pmf['unbiased'] *= 1/2\n",
    "pmf['biased'] *= 1/3\n",
    "pmf.Normalize()\n",
    "pmf['unbiased'].simplify()"
   ]
  },
  {
   "cell_type": "markdown",
   "metadata": {},
   "source": [
    "With this generalized form, we can determine the probability of the student being unbiased under any ratio of students to unbiased Killing Assistants! And hopefully avoid a zombie apocalypse..."
   ]
  },
  {
   "cell_type": "markdown",
   "metadata": {
    "collapsed": true
   },
   "source": [
    "## ESP\n",
    "\n",
    "Problem 6 from <http://www.mas.ncl.ac.uk/~nmf16/teaching/mas3301/solutions109.pdf>\n",
    "\n",
    "*In an experiment on extra-sensory perception (ESP) a person, A, sits in a sealed room and\n",
    "points at one of four cards, each of which shows a different picture. In another sealed room\n",
    "a second person, B, attempts to select, from an identical set of four cards, the card at which\n",
    "A is pointing. This experiment is repeated ten times.*\n",
    "\n",
    "*Suppose that we consider three possible states of nature, as follows.*\n",
    "\n",
    "*State 1 : There is no ESP and, whichever card A chooses, B is equally likely to select any\n",
    "one of the four cards. That is, subject B has a probability of 0.25 of selecting the correct\n",
    "card.\n",
    "Before the experiment we give this state a probability of 0.7.*\n",
    "\n",
    "*State 2 : Subject B has a probability of 0.50 of selecting the correct card.\n",
    "Before the experiment we give this state a probability of 0.2.*\n",
    "\n",
    "*State 3 : Subject B has a probability of 0.75 of selecting the correct card.\n",
    "Before the experiment we give this state a probability of 0.1.*\n",
    "\n",
    "*Assume that, given the true state of nature, the ten trials can be considered to be independent.\n",
    "Find our probabilities after the experiment for the three possible states of nature."
   ]
  },
  {
   "cell_type": "markdown",
   "metadata": {},
   "source": [
    "To rephrase this question, there are three possible worlds we can be living in: one without ESP, one with mild ESP, and one with strong ESP. We do not know for sure which world we are in, although we are 70% sure that we are in State 1, 20% sure we are in State 2, and 10% sure we are in State 1 before the experiment. Based on the results of the experiment, in which depending on what world we are in, the participants have a higher chance of choosing the same cards, we can use this data to get a better approximation of which world we live in.\n",
    "\n",
    "The goal of the problem is to find the chances that each of the three states of nature is in power using the data provided by the experiment. Therefore, the __hypothesis__ are: we are in __State 1, State 2,__ and __State 3__.\n",
    "\n",
    "Using Suite from the thinkbayes framework, let's set the priors (the probabilities of being in a certain state before the experiment and any data). This will require some adjustments to the init method in Suite because it assumes that the priors are all 1, or equally likely."
   ]
  },
  {
   "cell_type": "code",
   "execution_count": 22,
   "metadata": {
    "collapsed": false
   },
   "outputs": [
    {
     "name": "stdout",
     "output_type": "stream",
     "text": [
      "State1 0.7000000000000001\n",
      "State2 0.20000000000000007\n",
      "State3 0.10000000000000003\n"
     ]
    }
   ],
   "source": [
    "states_init = {'State1':0.7, 'State2':0.2, 'State3':0.1}\n",
    "\n",
    "class States(Suite):\n",
    "    def __init__(self, hypos):\n",
    "        Pmf.__init__(self)\n",
    "        for h in hypos:\n",
    "            self.Set(h, states_init[h])\n",
    "        self.Normalize()\n",
    "\n",
    "states = States(states_init)\n",
    "states.Print()"
   ]
  },
  {
   "cell_type": "markdown",
   "metadata": {},
   "source": [
    "At the beginning of the experiment, we know that there is a probability of 0.7 that the state is State 1, 0.2 that it is State 2, and 0.1 that it is State 3.\n",
    "\n",
    "The data we get from the experiment is related to the likelihood of each of the states. Out of the 10 runs of the experiment, the participants chose the same card 4 times. In State 1, there is a 25% chance to choose the correct card, while in State 3, there is a 75% chance to choose the correct card. How likely is it that the participants were not using ESP during the experiment? How likely is it that they were?\n",
    "\n",
    "Our data statement can be formulated as follows:\n",
    "__D: This is a trial during which the cards drawn are the same\n",
    "\n",
    "There is a 4/10 chance each time the experiment is run that this is the trial during which the same card will be drawn, and based on the state of the world, the participants have a 1/4 chance, 2/4 chance, and 3/4 chance to draw the same card in states 1, 2, and 3, respectively.\n",
    "\n",
    "To complete our Bayesian framework in code, let's define the Likelihood function, or P(D|H) as follows:"
   ]
  },
  {
   "cell_type": "code",
   "execution_count": 23,
   "metadata": {
    "collapsed": false
   },
   "outputs": [
    {
     "name": "stdout",
     "output_type": "stream",
     "text": [
      "State1 0.7000000000000001\n",
      "State2 0.20000000000000007\n",
      "State3 0.10000000000000003\n"
     ]
    }
   ],
   "source": [
    "states_init = {'State1':0.7, 'State2':0.2, 'State3':0.1}\n",
    "\n",
    "class States(Suite):\n",
    "    def __init__(self, hypos):\n",
    "        Pmf.__init__(self)\n",
    "        for h in hypos:\n",
    "            self.Set(h, states_init[h])\n",
    "        self.Normalize()\n",
    "    \n",
    "    def Likelihood(self, data, hypo):\n",
    "        if hypo == 'State1':\n",
    "            return (4 / 10) * (1 / 4)\n",
    "        if hypo == 'State2':\n",
    "            return (4 / 10) * (1 / 2)\n",
    "        else: # State3\n",
    "            return (4 / 10) * (3 / 4)\n",
    "\n",
    "states = States(states_init)\n",
    "states.Print()"
   ]
  },
  {
   "cell_type": "markdown",
   "metadata": {},
   "source": [
    "We run the experiment 10 times, so we need to update our probability 10 time, as each experiment gives us new data. Because each experiment is considered independent, the Likelihood of the data under the hypothesis is always the same."
   ]
  },
  {
   "cell_type": "code",
   "execution_count": 24,
   "metadata": {
    "collapsed": false
   },
   "outputs": [
    {
     "name": "stdout",
     "output_type": "stream",
     "text": [
      "State1 0.00011455878502225698\n",
      "State2 0.03351662738936892\n",
      "State3 0.9663688138256088\n"
     ]
    }
   ],
   "source": [
    "for i in range(10):\n",
    "    states.Update('cards are same')\n",
    "states.Print()"
   ]
  },
  {
   "cell_type": "markdown",
   "metadata": {},
   "source": [
    "It turns out that it is highly likely we live in a universe of ESP!"
   ]
  },
  {
   "cell_type": "markdown",
   "metadata": {
    "collapsed": true
   },
   "source": [
    "#### Now a problem of my own!\n",
    "## 1984\n",
    "*The place: Airstrip One. The reason: thoughtcrime. The time: ???*\n",
    "\n",
    "John's parents were taken by the Thought Police and erased from all records.\n",
    "John is being initiated into the Youth League and must pass a test. He is asked whether his parents are good comrades. It is not clear what John's admission officer knows:\n",
    "\n",
    "* He may know that John's parents have been erased and that John did not give them away.\n",
    "* He may know only that John's parents have been erased.\n",
    "* He may not know that John's parents have been erased.\n",
    "\n",
    "It is a well known fact that children who have parents that are 'good comrades' have twice the chances of passing the test.\n",
    "However, if the admission officer knows that their parents committed thoughtcrime (but not that they have been erased yet), a child that gave his parents away has three times the chances of getting in than a child who did not give them away.\n",
    "\n",
    "And if the admission officer knows the specifics of the arrest, a child that denies that the records are false and their parents existed has a 1/3 chance of getting in, while one who pretends that his parents never existed has a 2/3 chance. Lying to an admission officer that knows the parents have been erased will ensure that the child does not get in. Telling an admission officer that your parents do not exist when he does not know this will give you a 1/3 chance of getting in.\n",
    "\n",
    "There is a 60% chance the admission officer knows nothing, a 25% chance that he knows the parents have been erased, and a 15% chance that the officer knows all of the details. John says that he never had parents and is admitted into the Youth League. What did his admission officer know?"
   ]
  },
  {
   "cell_type": "code",
   "execution_count": 51,
   "metadata": {
    "collapsed": false
   },
   "outputs": [
    {
     "name": "stdout",
     "output_type": "stream",
     "text": [
      "everything 0.15\n",
      "nothing 0.6\n",
      "something 0.25\n"
     ]
    }
   ],
   "source": [
    "officer = {'everything':0.15, 'something':0.25, 'nothing':0.6}\n",
    "class ThoughtPolice(Suite):\n",
    "    def __init__(self, hypos):\n",
    "        Pmf.__init__(self)\n",
    "        for h in hypos:\n",
    "            self.Set(h, officer[h])\n",
    "        self.Normalize()\n",
    "    \n",
    "    def Likelihood(self, data, hypo):\n",
    "        if data == 'gave away':\n",
    "            if hypo == 'everything':\n",
    "                return 0\n",
    "            elif hypo == 'something':\n",
    "                return 1\n",
    "            else:\n",
    "                return 3\n",
    "        elif data == 'none':\n",
    "            if hypo == 'everything':\n",
    "                return 2\n",
    "            elif hypo == 'something':\n",
    "                return 1\n",
    "            else:\n",
    "                return 1\n",
    "        else: # data == 'good comrades'\n",
    "            if hypo == 'everything':\n",
    "                return 0\n",
    "            elif hypo == 'something':\n",
    "                return 0\n",
    "            else:\n",
    "                return 2\n",
    "        \n",
    "pmf = ThoughtPolice(officer)\n",
    "pmf.Print()"
   ]
  },
  {
   "cell_type": "markdown",
   "metadata": {},
   "source": [
    "We start by defining our hypothesis: The officer knew __everything__, __something__, and __nothing__. The priors are 0.15, 0.25, and 0.6, respectively.\n",
    "\n",
    "The data is that __John passed the test and had never had parents__.\n",
    "I defined the Likelihood function to account for all possibilities, no matter what the data given by John is. Running the Bayesian update:"
   ]
  },
  {
   "cell_type": "code",
   "execution_count": 52,
   "metadata": {
    "collapsed": false
   },
   "outputs": [
    {
     "name": "stdout",
     "output_type": "stream",
     "text": [
      "everything 0.2608695652173913\n",
      "nothing 0.5217391304347826\n",
      "something 0.2173913043478261\n"
     ]
    }
   ],
   "source": [
    "pmf.Update('none')\n",
    "pmf.Print()"
   ]
  },
  {
   "cell_type": "markdown",
   "metadata": {},
   "source": [
    "There is a pretty high chance that his officer knew nothing, but if the priors of the officers that knew more was higher, it would be a good step to take and stick with the Party truth. What if John had said that he was the one that gave his parents away?"
   ]
  },
  {
   "cell_type": "code",
   "execution_count": 53,
   "metadata": {
    "collapsed": false
   },
   "outputs": [
    {
     "name": "stdout",
     "output_type": "stream",
     "text": [
      "everything 0.0\n",
      "nothing 0.8780487804878049\n",
      "something 0.12195121951219513\n"
     ]
    }
   ],
   "source": [
    "pmf = ThoughtPolice(officer)\n",
    "pmf.Update('gave away')\n",
    "pmf.Print()"
   ]
  },
  {
   "cell_type": "markdown",
   "metadata": {},
   "source": [
    "There is no chance that the officer knew everything, because he would know that John was lying about giving his parents away."
   ]
  },
  {
   "cell_type": "code",
   "execution_count": 54,
   "metadata": {
    "collapsed": false
   },
   "outputs": [
    {
     "name": "stdout",
     "output_type": "stream",
     "text": [
      "everything 0.0\n",
      "nothing 1.0\n",
      "something 0.0\n"
     ]
    }
   ],
   "source": [
    "pmf = ThoughtPolice(officer)\n",
    "pmf.Update('good')\n",
    "pmf.Print()"
   ]
  },
  {
   "cell_type": "markdown",
   "metadata": {},
   "source": [
    "Of course, if John lies and says his parents were good comrades, the officer could not have known anything about his case.\n",
    "\n",
    "I think an interesting continuation of this problem would be to see at what point is it not as advantageous for John to say that he has no parents as opposed to the fact that he gave them away. By flipping this problem around, we could see what the chances are of John getting in with each possible answer."
   ]
  },
  {
   "cell_type": "markdown",
   "metadata": {},
   "source": [
    "This work is licensed under a <a rel=\"license\" href=\"http://creativecommons.org/licenses/by/4.0/\">Creative Commons Attribution 4.0 International License</a>."
   ]
  },
  {
   "cell_type": "code",
   "execution_count": null,
   "metadata": {
    "collapsed": true
   },
   "outputs": [],
   "source": []
  }
 ],
 "metadata": {
  "anaconda-cloud": {},
  "kernelspec": {
   "display_name": "Python [Root]",
   "language": "python",
   "name": "Python [Root]"
  },
  "language_info": {
   "codemirror_mode": {
    "name": "ipython",
    "version": 3
   },
   "file_extension": ".py",
   "mimetype": "text/x-python",
   "name": "python",
   "nbconvert_exporter": "python",
   "pygments_lexer": "ipython3",
   "version": "3.5.2"
  }
 },
 "nbformat": 4,
 "nbformat_minor": 0
}
