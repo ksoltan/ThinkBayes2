{
 "cells": [
  {
   "cell_type": "markdown",
   "metadata": {},
   "source": [
    "# Computational Bayesian Report 4\n",
    "## Katerina Soltan"
   ]
  },
  {
   "cell_type": "code",
   "execution_count": 1,
   "metadata": {
    "collapsed": true
   },
   "outputs": [],
   "source": [
    "from __future__ import print_function, division\n",
    "\n",
    "import numpy as np\n",
    "\n",
    "import thinkbayes2\n",
    "from thinkbayes2 import Pmf, Cdf, Suite, Beta, Joint\n",
    "import thinkplot\n",
    "\n",
    "from scipy.special import binom\n",
    "import scipy.stats as stats\n",
    "\n",
    "% matplotlib inline"
   ]
  },
  {
   "cell_type": "markdown",
   "metadata": {},
   "source": [
    "## Archer\n",
    "The following question is from [this subreddit](https://www.reddit.com/r/probabilitytheory/comments/55dg3d/help_with_two_probability_problems/):\n",
    ">*Two archers shoot at a target. The first one shoots twice and the second one - only once. The probability for the first one to hit the target is 0.5 and for the second one - 0.75. After they are done shooting, there's only one arrow that hit the target. Find out the probability the arrow to belong to the first archer and the probability to belong to the second one.*"
   ]
  },
  {
   "cell_type": "markdown",
   "metadata": {},
   "source": [
    "There are 3 different scenarios in which one arrow could end up hitting the target:\n",
    "    \n",
    "    1) Archer 1 misses both of his shots and Archer 2 hits his one shot\n",
    "    2) Archer 1 misses the first shot, hits the second shot, and Archer 2 misses his shot\n",
    "    3) Archer 1 hits the first shot, misses the second shot, and Archer 2 misses his shot\n",
    "\n",
    "We are given that P(hit | Archer 1) = 0.5 and P(hit | Archer 2) = 0.75, and so can claculate the probabilities of any of the three scenarios above:\n",
    "\n",
    "    P(1) = (1 - P(hit | Archer 1)) * (1 - P(hit | Archer 1)) * P(hit | Archer 2) = 1/2 * 1/2 * 3/4 = 3/8\n",
    "    P(2) = (1 - P(hit | Archer 1)) * P(hit | Archer 1) * (1 - P(hit | Archer 2)) = 1/2 * 1/2 * 1/4 = 1/8\n",
    "    P(3) = P(hit | Archer 1) * (1 - P(hit | Archer 1)) * (1 - P(hit | Archer 2)) = 1/2 * 1/2 * 1/4 = 1/8\n",
    "\n",
    "Since we know that there is an arrow in the target, we can say that the above scenarios are collectively exhaustive, and therefore normalize them so the probabilities add up to 1:\n",
    "    \n",
    "    p(1) = 3/8 / 5/8 = 3/5\n",
    "    p(2) = 1/8 / 5/8 = 1/5\n",
    "    p(3) = 1/8 / 5/8 = 1/5\n",
    "    \n",
    "Based on these claculations, the probability that it is Archer 2's arrow is 3/5, while the probability that it is Archer 1's arrow is 1/5 + 1/5 = 2/5. The probability of Archer 2 is greater, and therefore it is more probable that it is Archer 2's arrow. Calculate the Bayes' factor, which is 3/5 / 2/5 = 3/2. On the scale of interpretting Bayes' factors, this is a pretty insignificant one because it is pretty small. \n",
    "    "
   ]
  },
  {
   "cell_type": "markdown",
   "metadata": {},
   "source": [
    "## Vacationing Envelopes\n",
    "The problem was found on this [reddit chain](https://www.reddit.com/r/math/comments/cavoz/what_are_some_of_your_favorite_logic_or_tricky/), posted by brandonmat:\n",
    "\n",
    ">*A statistics professor and his wife are planning to take a 2-week vacation to Hawaii, but they can't decide whether to spend 1 week on each of the islands of Maui and Oahu, 2 weeks in Maui, or 2 weeks on Oahu. Placing their faith in random chance, they insert two Maui brochures in one envelope, two Oahu brochures in a second envelope, and one brochure from each island in a third envelope. The professor's wife will select one envelope at random, and their vacation schedule will be based on the brochures of the islands so selected. After his wife randomly selects an envelope, the professor removes one brochure from the envelope (without looking at the second) and observes that it is a Maui brochure. What is the probability that the other brochure in the envelope is a Maui brochure?*\n",
    "\n",
    "To answer the question of what else is in the envelope, we could first determine the probability that the brochure chosen came from any given envelope:\n",
    "\n",
    "We have 3 envelopes, let's denote them E1, E2, and E3, and let's denote the brochures as M and O, for Maui and Oahu respectively. E1 contains 2 M, E2 contains 2 O, and E3 contains 1 M and 1 O. The likelihood that the M brochure came from E1 is 1, since both the brochures are M. The likelihood that  it came from E2 is 0 because there are no M brochures in there. The likelhood that it came from E3 is 1/2.\n",
    "\n",
    "    P(M|E1) = 1\n",
    "    P(M|E2) = 0\n",
    "    P(M|E3) = 1/2\n",
    "\n",
    "We know the probably of the brochure coming from any given envelope, but what is the probability that the professor's wife chooses a particular envelope? If she does choose randomly, the probability of choosing any given envelope is 1/3. Given all of this, the probability that an envelope is chosen is the product of the prior probability (probability of the envelope being selected without knowing what is in it) and the likelihood that the brochure came from it.\n",
    "\n",
    "    P(E1|M)u = P(E1) * P(M|E1) = 1/3 * 1 = 1/3\n",
    "    P(E2|M)u = P(E2) * P(M|E2) = 1/3 * 0 = 0\n",
    "    P(E3|M)u = P(E3) * P(M|E3) = 1/3 * 1/2 = 1/6\n",
    "    \n",
    "\n",
    "These probabilities are unnormalized (I denoted this with a little u). We need to normalize these probabilities so they add up to 1, because it is a collectively exhaustive process:\n",
    "    \n",
    "    Ptot = P(E1|M) + P(E2|M) + P(E3|M) = 1/2\n",
    "    P(E1|M) = P(E1|M)u / P(tot) = 2/3\n",
    "    P(E2|M) = P(E2|M)u / P(tot) = 0\n",
    "    P(E3|M) = P(E3|M)u / P(tot) = 1/3\n",
    "    \n",
    "Now that we have the probabilities that a particular envelope is selected, we can return to the question of the problem: what is the probability that the other brochure in the envelope is a Maui brochure?\n",
    "\n",
    "The only envelope that contains another Maui brochure is E1, and since the probability of selecting that envelope is 2/3, so is the probability that the other brochure is Maui. In this problem, there are not many options, and by knowing that a Maui brochure was first selected, it quickly narrows down the possible envelopes selected. It seems that the probability that the other brochure is Maui is very high, 2/3, and the answer lies in the likelihood that E1 was selected: since there are two Maui brochures in it, there was twice the chance that it was selected in the first place, as opposed to E3 which had only one chance of selecting a Maui brochure.\n",
    "\n",
    "In solving this problem, we have performed a Bayesian update, which we can rewrite computationally using Suite provided by the thinkbayes module. Instead of labeling our hypothesis with names, we can define them with the probability of selecting a Maui brochure from them, and map these values in a dictionary:\n",
    "    \n",
    "    E1 = P(M|E1)\n",
    "    E2 = P(M|E2)\n",
    "    E3 = P(M|E3)"
   ]
  },
  {
   "cell_type": "code",
   "execution_count": 57,
   "metadata": {
    "collapsed": false
   },
   "outputs": [
    {
     "name": "stdout",
     "output_type": "stream",
     "text": [
      "E1 0.6666666666666666\n",
      "E2 0.0\n",
      "E3 0.3333333333333333\n"
     ]
    }
   ],
   "source": [
    "hypos = {'E1':2/2, 'E2':0/2, 'E3':1/2}\n",
    "class Hawaii(Suite):\n",
    "    '''data: island on the brochure that was pulled out\n",
    "    hypo: percentage of Maui brochures in envelope\n",
    "    '''\n",
    "    def Likelihood(self, data, hypo):\n",
    "        like_of_m = hypos[hypo]\n",
    "        if data == 'M': # If we want to know prob of Maui being from certain envelope:\n",
    "            return like_of_m\n",
    "        else:\n",
    "            return 1 - like_of_m # if we want to know prob of Oahu from certain envelope\n",
    "\n",
    "vacation = Hawaii(['E1', 'E2', 'E3'])\n",
    "vacation.Update('M')\n",
    "vacation.Print()"
   ]
  },
  {
   "cell_type": "markdown",
   "metadata": {},
   "source": [
    "The result is the same because the Update function encapsulates the process that we went through above for \"updating\" our belief about the likelihood of a certain envelope being chosen.\n",
    "\n",
    "Now what if there were 10 envelopes, each with a different combination of the two different brochures? The process would be exactly the same, but we need a quicker way to define the envelopes: I don't want to define E1 through E10. Similarly as above, I'll create a mapping from envelope to the probability of selecting a Maui brochure, but instead of using E1, I'll use the number of Maui brochures in the envelope. If there are 10 envelopes, there must be 9 brochures in each envelope to have every possible combination of the brochures."
   ]
  },
  {
   "cell_type": "code",
   "execution_count": 58,
   "metadata": {
    "collapsed": false
   },
   "outputs": [
    {
     "data": {
      "image/png": "[encoded data removed]",
      "text/plain": [
       "<matplotlib.figure.Figure at 0x7fab52abae80>"
      ]
     },
     "metadata": {},
     "output_type": "display_data"
    }
   ],
   "source": [
    "hypos = {}\n",
    "num_brochures = 9\n",
    "for num_M_brochures in range(num_brochures + 1):\n",
    "    hypos[num_M_brochures] = num_M_brochures # the probabilities will be normalized anyways,\n",
    "                                            # so we can keep them in terms of the number\n",
    "                                            # of Maui brochures in the envelope\n",
    "\n",
    "vacation = Hawaii(list(range(num_brochures + 1)))\n",
    "vacation.Update('M')\n",
    "thinkplot.Hist(vacation)"
   ]
  },
  {
   "cell_type": "markdown",
   "metadata": {},
   "source": [
    "Since we have denoted the envelopes based on the number of Maui brochures in them, it makes sense that the higher the number, the more probable M came from there because there are more choices of M brochures.\n",
    "\n",
    "Some ideas for further investigation:\n",
    "Here we assumed a pattern in the distribution of the brochures in the envelopes. What if we pulled a couple of brochures out and tried to determine how many envelopes there are or how many brochures are in each?\n",
    "It would be really cool to get the total amount that the professor and his wife spent on a trip to Hawaii, and based on flight expenses on different days between different islands, which can determine how much total money they spent, see which islands they chose, or which envelope they came from..."
   ]
  },
  {
   "cell_type": "markdown",
   "metadata": {},
   "source": [
    "## Chimps\n",
    "Question posted by tired_vietnamese on this [reddit chain](https://www.reddit.com/r/cheatatmathhomework/comments/mqrf3/need_help_with_bayesian_inference_of_eye_color/):\n",
    ">*A male and female chimpanzee have blue and brown eyes, respectively. Assume a simple genetic model in which the gene for brown eyes is always dominant (so that the trait of blue eyes can only arise from two blue-eyed genes, but the trait of brown eyes can arise from two brown-eyed genes, or one of each). You can also assume that the apriori probability that the female has either of these gene configurations is 50%.*\n",
    "\n",
    ">*a) Suppose you observe that they have a child with brown eyes. Now what is the probability that the female chimp has a blue-eyed gene?*\n",
    "\n",
    ">*b) Suppose you observe that they have a second child with brown eyes. Now what is the probability?*"
   ]
  },
  {
   "cell_type": "markdown",
   "metadata": {
    "collapsed": true
   },
   "source": [
    "We know that the male has 2 blue-eyed genes. We are uncertain of whether the female has 2 brown-eyed genes or 1 blue and 1 brown.\n",
    "\n",
    "The possible gene combinations a child has is expressed in the following table, where B represents brown and b represents blue:\n",
    "\n",
    "If mother has BB genes:\n",
    "\n",
    " | **B** | **B**\n",
    "--- | --- | ---\n",
    "**b** | Bb | Bb\n",
    "**b** | Bb | Bb\n",
    "\n",
    "The probability that the child will have brown eyes in this scenario is 1, while it is a 0 probability that there will be a blue eyed child.\n",
    "\n",
    "If mother has Bb genes:\n",
    "\n",
    " | **B** | **b**\n",
    "--- | --- | ---\n",
    "**b** | Bb | bb\n",
    "**b** | Bb | bb\n",
    "\n",
    "The probability that a child has brown eyes is 1/2.\n",
    "\n",
    "This is a simple Bayesian update where the forward probability questions is, if the mother has both dominant genes, what is the probability of her child having brown eyes? Summarizing the tables:\n",
    "    \n",
    "    P(child brown eyes | mom has dominant genes) = 1\n",
    "    P(child brown eyes | mom has recessive gene) = 1/2\n",
    "\n",
    "We start off assuming that the mother has a 50/50 chance of having the recessive gene. Let us do the same thing as we did in the above problem and create a Suite for ease of updating multiple times."
   ]
  },
  {
   "cell_type": "code",
   "execution_count": 56,
   "metadata": {
    "collapsed": false
   },
   "outputs": [
    {
     "name": "stdout",
     "output_type": "stream",
     "text": [
      "dominant 0.6666666666666666\n",
      "recessive 0.3333333333333333\n",
      "dominant 0.8\n",
      "recessive 0.2\n"
     ]
    }
   ],
   "source": [
    "class Chimp(Suite):\n",
    "    '''data: eye color of child\n",
    "    hypo: whether mother has recessive gene or not\n",
    "    '''\n",
    "    def Likelihood(self, data, hypo):\n",
    "        pBrownIfDominant = 1\n",
    "        pBrownIfRecessive = 1/2\n",
    "        if data == 'brown':\n",
    "            if hypo == 'dominant':\n",
    "                return pBrownIfDominant\n",
    "            else:\n",
    "                return pBrownIfRecessive\n",
    "        else: # blue eyed\n",
    "            if hypo == 'recessive':\n",
    "                return 1 - pBrownIfDominant\n",
    "            else: \n",
    "                return 1 - pBrownIfRecessive\n",
    "chimp = Chimp(['dominant', 'recessive'])\n",
    "chimp.Update('brown')\n",
    "chimp.Print()\n",
    "chimp.Update('brown')\n",
    "chimp.Print()"
   ]
  },
  {
   "cell_type": "markdown",
   "metadata": {},
   "source": [
    "The probability that the mother has both dominant genes grows higher as we see more and more brown eyed children because they are more probable in this case."
   ]
  },
  {
   "cell_type": "markdown",
   "metadata": {},
   "source": [
    "## Lightbulbs!\n",
    "Problem from Allen Downey:\n",
    ">*Suppose we know that, for a particular kind of lightbulb in a particular location, the distribution of lifespans is well modeled by a Weibull distribution with `lam=2` and `k=1.5`.  If we install `n=100` lightbulbs and come back one year later, what is the distribution of `c`, the number of lightbulbs that have burned out?*\n",
    "\n"
   ]
  },
  {
   "cell_type": "code",
   "execution_count": 4,
   "metadata": {
    "collapsed": false
   },
   "outputs": [
    {
     "data": {
      "image/png": "[encoded data removed]",
      "text/plain": [
       "<matplotlib.figure.Figure at 0x7fab5752e3c8>"
      ]
     },
     "metadata": {},
     "output_type": "display_data"
    }
   ],
   "source": [
    "from thinkbayes2 import EvalWeibullCdf\n",
    "# we look for the distribution of c, so 1 to 100 of the bulbs could be dead\n",
    "n = 100\n",
    "c = range(1, n + 1)\n",
    "x = 1\n",
    "lam = 2\n",
    "k = 1.5\n",
    "pmf = Pmf()\n",
    "for num_dead in c:\n",
    "    # what is the likelihood that that number of bulbs is dead after 1 year\n",
    "    like = stats.binom.pmf(num_dead, n, EvalWeibullCdf(x, lam, k))\n",
    "    pmf[num_dead] = like\n",
    "thinkplot.Pdf(pmf)"
   ]
  },
  {
   "cell_type": "markdown",
   "metadata": {},
   "source": [
    "We can write this process in a function. It is completely equivalent to simply creating a binomial pmf with p (probability of a dead bulb which we get from the Weibull distribution) and n (the number of bulbs) as parameters."
   ]
  },
  {
   "cell_type": "code",
   "execution_count": 5,
   "metadata": {
    "collapsed": false
   },
   "outputs": [
    {
     "data": {
      "image/png": "[encoded data removed]",
      "text/plain": [
       "<matplotlib.figure.Figure at 0x7fab5701d630>"
      ]
     },
     "metadata": {},
     "output_type": "display_data"
    }
   ],
   "source": [
    "# Can be substituted by just making a binomial pmf!\n",
    "# Where n is number of bulbs and p is the probability of them being dead (weibull)\n",
    "def GetDistributionOfDeadBulbs(lam, k, n):\n",
    "    pmf = Pmf()\n",
    "    for num_dead in range(1, n + 1):\n",
    "        # what is the likelihood that that number of bulbs is dead after 1 year\n",
    "        like = stats.binom.pmf(num_dead, n, EvalWeibullCdf(x, lam, k))\n",
    "        pmf[num_dead] = like\n",
    "    pmf.Normalize()\n",
    "    return pmf\n",
    "\n",
    "thinkplot.Pdf(GetDistributionOfDeadBulbs(2, 1.5, 100))"
   ]
  },
  {
   "cell_type": "markdown",
   "metadata": {},
   "source": [
    "To continue the problem:\n",
    "\n",
    ">*Now suppose that `lam` and `k` are not known precisely, but we have a `LightBulb` object that represents the joint posterior distribution of the parameters after seeing some data.  Compute the posterior predictive distribution for `c`, the number of bulbs burned out after one year.*\n",
    "\n",
    "Allen provided some fake data to update our beliefs about the Weibull distributions. The code is taken from the survival notebook."
   ]
  },
  {
   "cell_type": "code",
   "execution_count": 70,
   "metadata": {
    "collapsed": false
   },
   "outputs": [
    {
     "data": {
      "text/html": [
       "<div>\n",
       "<table border=\"1\" class=\"dataframe\">\n",
       "  <thead>\n",
       "    <tr style=\"text-align: right;\">\n",
       "      <th></th>\n",
       "      <th>lifespan</th>\n",
       "      <th>start</th>\n",
       "      <th>end</th>\n",
       "      <th>age_t</th>\n",
       "    </tr>\n",
       "  </thead>\n",
       "  <tbody>\n",
       "    <tr>\n",
       "      <th>0</th>\n",
       "      <td>0.285910</td>\n",
       "      <td>4.425565</td>\n",
       "      <td>4.711475</td>\n",
       "      <td>5.574435</td>\n",
       "    </tr>\n",
       "    <tr>\n",
       "      <th>1</th>\n",
       "      <td>0.147547</td>\n",
       "      <td>9.299845</td>\n",
       "      <td>9.447391</td>\n",
       "      <td>0.700155</td>\n",
       "    </tr>\n",
       "    <tr>\n",
       "      <th>2</th>\n",
       "      <td>2.068934</td>\n",
       "      <td>7.136049</td>\n",
       "      <td>9.204982</td>\n",
       "      <td>2.863951</td>\n",
       "    </tr>\n",
       "    <tr>\n",
       "      <th>3</th>\n",
       "      <td>3.248563</td>\n",
       "      <td>7.902693</td>\n",
       "      <td>11.151256</td>\n",
       "      <td>2.097307</td>\n",
       "    </tr>\n",
       "    <tr>\n",
       "      <th>4</th>\n",
       "      <td>2.239142</td>\n",
       "      <td>6.754382</td>\n",
       "      <td>8.993524</td>\n",
       "      <td>3.245618</td>\n",
       "    </tr>\n",
       "  </tbody>\n",
       "</table>\n",
       "</div>"
      ],
      "text/plain": [
       "   lifespan     start        end     age_t\n",
       "0  0.285910  4.425565   4.711475  5.574435\n",
       "1  0.147547  9.299845   9.447391  0.700155\n",
       "2  2.068934  7.136049   9.204982  2.863951\n",
       "3  3.248563  7.902693  11.151256  2.097307\n",
       "4  2.239142  6.754382   8.993524  3.245618"
      ]
     },
     "execution_count": 70,
     "metadata": {},
     "output_type": "execute_result"
    }
   ],
   "source": [
    "import pandas as pd\n",
    "from thinkbayes2 import MakeWeibullPmf, EvalWeibullPdf\n",
    "\n",
    "def SampleWeibull(lam, k, n=1):\n",
    "    return np.random.weibull(k, size=n) * lam\n",
    "\n",
    "data = SampleWeibull(lam, k, 10000)\n",
    "\n",
    "lam = 2\n",
    "k = 1.5\n",
    "n = 15\n",
    "t_end = 10\n",
    "starts = np.random.uniform(0, t_end, n)\n",
    "lifespans = SampleWeibull(lam, k, n)\n",
    "\n",
    "df = pd.DataFrame({'start': starts, 'lifespan': lifespans})\n",
    "df['end'] = df.start + df.lifespan\n",
    "df['age_t'] = t_end - df.start\n",
    "\n",
    "df.head()"
   ]
  },
  {
   "cell_type": "code",
   "execution_count": 71,
   "metadata": {
    "collapsed": false
   },
   "outputs": [],
   "source": [
    "# processing of the data\n",
    "data = []\n",
    "for i, row in df.iterrows():\n",
    "    if row.end < t_end:\n",
    "        data.append(('eq', row.lifespan))\n",
    "    else:\n",
    "        data.append(('gt', row.age_t))"
   ]
  },
  {
   "cell_type": "markdown",
   "metadata": {},
   "source": [
    "We need a way of updating our beliefs about the Weibull distribution that best models our bulb life. To work with the above data, we need to take into account three scenarios:\n",
    "    \n",
    "    The bulb is working after a time x\n",
    "    The bulb died at time x\n",
    "    The bulb died sometime before x\n",
    "\n",
    "The flags that denote what data we are using to update the set are eq, et, and el, respectively.\n",
    "\n",
    "If the bulb died at time x, then evaluating the pdf of the Weibull will give the probability of being alive for exactly 1 year.\n",
    "\n",
    "If the bulb died sometime before x, we evaluate the CDF of the Weibull because it gives the area under the curve, or the sum of the probabilities that the bulb died at a time <= x.\n",
    "\n",
    "If the bulb is still working, we subtract the probability of the bulb dieing before x from 1, doing the equivalent of adding the probabilities that the bulb will die at a time > x."
   ]
  },
  {
   "cell_type": "code",
   "execution_count": 78,
   "metadata": {
    "collapsed": false
   },
   "outputs": [
    {
     "data": {
      "text/plain": [
       "6.8107200378295906e-12"
      ]
     },
     "execution_count": 78,
     "metadata": {},
     "output_type": "execute_result"
    }
   ],
   "source": [
    "from itertools import product\n",
    "\n",
    "class LightBulb(Suite, Joint):\n",
    "    '''data: (flag, x) where flag is either eq, meaning that x is when the bulb died, \n",
    "    or gt which means the bulb is still working at time x, or et which means that the bulb died some time before x\n",
    "    hypo: lam, k of possible weibull distribution to model the bulb life'''\n",
    "    def Likelihood(self, data, hypo):\n",
    "        lam, k = hypo\n",
    "        flag, x = data\n",
    "        if lam == 0:\n",
    "            return 0\n",
    "        if flag == 'eq':\n",
    "            return EvalWeibullPdf(x, lam, k)\n",
    "        if flag == 'et':\n",
    "            return 1 - EvalWeibullCdf(x, lam, k)\n",
    "        else:  # flag == 'el' # if x is time between installation and discovering dead bulb\n",
    "            return EvalWeibullCdf(x, lam, k) # sum up all of the probabilities of life before x,\n",
    "                                        # because it could have died at any point        \n",
    "ks = np.linspace(0, 10, 50)\n",
    "lams = np.linspace(0, 10, 50)\n",
    "weibulls = LightBulb(product(lams, ks))\n",
    "weibulls.UpdateSet(data)"
   ]
  },
  {
   "cell_type": "markdown",
   "metadata": {},
   "source": [
    "Now that we have a set of ways to model the life of our bulbs with different probabilities, we can determine the distribution of burned out light bulbs by looping through all of the possible distributions, generating a distribution of dead bulbs (we solved this problem earlier), and then creating a weighted average of these distributions, or making a mixture."
   ]
  },
  {
   "cell_type": "code",
   "execution_count": 76,
   "metadata": {
    "collapsed": false
   },
   "outputs": [],
   "source": [
    "# Now I have a bunch of different lams and ks, and for each I need to evaluate\n",
    "# the c distribution, and then create a mixture of them!\n",
    "from thinkbayes2 import MakeMixture\n",
    "from thinkbayes2 import MakeBinomialPmf\n",
    "\n",
    "n = 100 # total number of bulbs\n",
    "\n",
    "def MakePmfOfDistributions(suite):\n",
    "    metapmf = Pmf()\n",
    "    for weibull, prob in suite.Items():\n",
    "        lam, k = weibull\n",
    "        pmf = GetDistributionOfDeadBulbs(lam, k, n)\n",
    "        #pmf = MakeBinomialPmf(n, EvalWeibullCdf(1, lam, k)) # equivalent to above statement\n",
    "        metapmf[pmf] = prob\n",
    "    mix = MakeMixture(metapmf, label=suite.label)\n",
    "    return mix"
   ]
  },
  {
   "cell_type": "code",
   "execution_count": 77,
   "metadata": {
    "collapsed": false
   },
   "outputs": [
    {
     "data": {
      "image/png": "[encoded data removed]",
      "text/plain": [
       "<matplotlib.figure.Figure at 0x7fab56defa58>"
      ]
     },
     "metadata": {},
     "output_type": "display_data"
    }
   ],
   "source": [
    "c_distribution = MakePmfOfDistributions(weibulls)\n",
    "thinkplot.Pdf(c_distribution)"
   ]
  },
  {
   "cell_type": "code",
   "execution_count": null,
   "metadata": {
    "collapsed": true
   },
   "outputs": [],
   "source": [
    "c_distribution.Mean()"
   ]
  },
  {
   "cell_type": "markdown",
   "metadata": {},
   "source": [
    "The distribution of the number of dead bulbs after a year out of 100 looks roughly normal, centered around a mean of about 41 bulbs."
   ]
  },
  {
   "cell_type": "markdown",
   "metadata": {
    "collapsed": true
   },
   "source": [
    "## Rock Hyraxes\n",
    "Problem from Allen Downey:\n",
    ">*Suppose I capture and tag 10 rock hyraxes.  Some time later, I capture another 10 hyraxes and find that two of them are already tagged.  How many hyraxes are there in this environment?*\n",
    "\n",
    ">*As always with problems like this, we have to make some modeling assumptions. *\n",
    "\n",
    ">*1) For simplicity, you can assume that the environment is reasonably isolated, so the number of hyraxes does not change between observations.*\n",
    "\n",
    ">*2) And you can assume that each hyrax is equally likely to be captured during each phase of the experiment, regardless of whether it has been tagged.  In reality, it is possible that tagged animals would avoid traps in the future, or possible that the same behavior that got them caught the first time makes them more likely to be caught again.  But let's start simple.*\n",
    "\n",
    ">*I suggest the following notation:*\n",
    "\n",
    ">*  `N`: total population of hyraxes\n",
    ">*  `K`: number of hyraxes tagged in the first round\n",
    ">*  `n`: number of hyraxes caught in the second round\n",
    ">*  `k`: number of hyraxes in the second round that had been tagged\n",
    "\n",
    ">*So `N` is the hypothesis and `(K, n, k)` make up the data.  The probability of the data, given the hypothesis, is the probability of finding `k` tagged hyraxes out of `n` if (in the population) `K` out of `N` are tagged. *\n",
    "\n",
    ">*If you are familiar with the hypergeometric distribution, you can use the hypergeometric PMF to compute the likelihood function.  Otherwise, you can figure it out using combinatorics.*\n",
    "\n",
    "Let's start with the reverse question: If I know that there are 50 rock hyraxes, and I know that 10 of them I have tagged, what is the probability of catching 8 untagged ones and two tagged ones? This is where the hypergeometric distribution comes into play. Because it is a binary distribution, meaning that it recognizes only two states: failure and success, let's say that a tagged hyrax is a success and a free hyrax is a failure. By using the hypergeometric distribution, we get the probability of getting 2 successes and 8 failures given that we know how many total things there are (total success + total failures) and how many total success there are.\n",
    "\n",
    "I will use the Suite class provided by thinkbayes2 and define a Likelihood function that evaluates the hypergeometric distribution given N, n, k, and a constant K = 10 (we know how many rock hyraxes are tagged). Since I have encountered a total of 18 hyraxes (10 tagged and 8 untagged), I know there are at least 18, so I will estimate that there are between 18 and 300 hyraxes in the environment. I update my assumptions with the observation than there are 2 tagged out of 10 caught hyraxes."
   ]
  },
  {
   "cell_type": "code",
   "execution_count": 10,
   "metadata": {
    "collapsed": false
   },
   "outputs": [
    {
     "data": {
      "text/plain": [
       "112.20149917779835"
      ]
     },
     "execution_count": 10,
     "metadata": {},
     "output_type": "execute_result"
    },
    {
     "data": {
      "image/png": "[encoded data removed]",
      "text/plain": [
       "<matplotlib.figure.Figure at 0x7fab59f1fba8>"
      ]
     },
     "metadata": {},
     "output_type": "display_data"
    }
   ],
   "source": [
    "from thinkbayes2 import EvalHypergeomPmf\n",
    "class RockHyrax(Suite):\n",
    "    '''data: (n, k) where n is the number of hyraxes caught and k is the number of caught tagged hyraxes\n",
    "    hypo: N where N is the total number of hyraxes\n",
    "    returns: Probability of catching k tagged hyraxes out of n caught if N is the number of total hyraxes'''\n",
    "    def Likelihood(self, data, hypo):\n",
    "        n, k = data\n",
    "        N = hypo\n",
    "        K = 10 # tagged 10 hyraxes in the first round\n",
    "        # If you caught more hyraxes than there are, or more tagged hyraxes than you tagged, that's impossible\n",
    "        if n > N or k > K:\n",
    "            return 0\n",
    "        return EvalHypergeomPmf(k, N, K, n)\n",
    "\n",
    "numHyraxes = np.linspace(18, 300, 300-18+1)\n",
    "k = 2\n",
    "n = 10\n",
    "hyraxSuite = RockHyrax(numHyraxes)\n",
    "hyraxSuite.Update((n, k))\n",
    "thinkplot.Pdf(hyraxSuite)\n",
    "hyraxSuite.Mean()"
   ]
  },
  {
   "cell_type": "markdown",
   "metadata": {},
   "source": [
    "The mean number of hyraxes is 112. Let's comaper this results with result of a Lincoln index estimate. The Lincoln index assumes that the ratio of tagged hyraxes caught in round 2 to total tagged hyraxes should be proportional to the ratio of total caught hyraxes in round 2 to the total number of hyraxes. Therefore: N = Kn/k"
   ]
  },
  {
   "cell_type": "code",
   "execution_count": 11,
   "metadata": {
    "collapsed": false
   },
   "outputs": [
    {
     "name": "stdout",
     "output_type": "stream",
     "text": [
      "50.0\n",
      "50.0\n"
     ]
    }
   ],
   "source": [
    "K = 10\n",
    "k = 2\n",
    "n = 10\n",
    "N_lincoln = K * n / k\n",
    "print(N_lincoln)\n",
    "print(hyraxSuite.MaximumLikelihood())"
   ]
  },
  {
   "cell_type": "markdown",
   "metadata": {},
   "source": [
    "The Lincoln index estimates around 50 hyraxes. Interestingly, the population of hyraxes with the most likelihood from our suite is also 50!\n",
    "\n",
    "Now imagine that you didn't tag hyraxes in the first round, but in the second round you caught 2 tagged hyraxes our of 10. How many tagged ones were there and how many hyraxes are there in all? To solve this problem, we need to slightly change our Likelihood function to include another variable for our hypothesis, K. We know that K must be at least 2 because we caught 2 tagged ones. We will also extend the Joint class to be able to look at the marginal and conditional distributions of our two variables."
   ]
  },
  {
   "cell_type": "code",
   "execution_count": 12,
   "metadata": {
    "collapsed": false
   },
   "outputs": [
    {
     "data": {
      "text/plain": [
       "0.046410046410037757"
      ]
     },
     "execution_count": 12,
     "metadata": {},
     "output_type": "execute_result"
    }
   ],
   "source": [
    "class RockHyrax(Suite, Joint):\n",
    "    '''data: (n, k) where n is the number of hyraxes caught and k is the number of caught tagged hyraxes\n",
    "    hypo: (N, K) where N is the total number of hyraxes and K is the number of originally tagged hyraxes\n",
    "    returns: Probability of catching k tagged hyraxes out of n caught if N is the number of total hyraxes\n",
    "    and K were initially tagged'''\n",
    "    def Likelihood(self, data, hypo):\n",
    "        n, k = data\n",
    "        N, K = hypo\n",
    "        # If you caught more hyraxes than there are, or more tagged hyraxes than you tagged, that's impossible\n",
    "        # If you tagged more hyraxes than there are, this is also impossible\n",
    "        if K > N or n > N or k > K:\n",
    "            return 0\n",
    "        return EvalHypergeomPmf(k, N, K, n)\n",
    "\n",
    "numHyraxes = np.linspace(18, 1000, 1000-18+1)\n",
    "numTagged = np.linspace(2, 1000, 1000-2+1)\n",
    "k = 2\n",
    "n = 10\n",
    "hyraxSuite = RockHyrax(product(numHyraxes, numTagged))\n",
    "hyraxSuite.Update((n, k))"
   ]
  },
  {
   "cell_type": "code",
   "execution_count": 13,
   "metadata": {
    "collapsed": false
   },
   "outputs": [
    {
     "data": {
      "image/png": "[encoded data removed]",
      "text/plain": [
       "<matplotlib.figure.Figure at 0x7fab8c644eb8>"
      ]
     },
     "metadata": {},
     "output_type": "display_data"
    }
   ],
   "source": [
    "thinkplot.Pdf(hyraxSuite.Marginal(0))"
   ]
  },
  {
   "cell_type": "code",
   "execution_count": 14,
   "metadata": {
    "collapsed": false
   },
   "outputs": [
    {
     "data": {
      "image/png": "[encoded data removed]",
      "text/plain": [
       "<matplotlib.figure.Figure at 0x7fab52a62128>"
      ]
     },
     "metadata": {},
     "output_type": "display_data"
    }
   ],
   "source": [
    "thinkplot.Pdf(hyraxSuite.Marginal(1))"
   ]
  },
  {
   "cell_type": "code",
   "execution_count": 15,
   "metadata": {
    "collapsed": false
   },
   "outputs": [
    {
     "data": {
      "image/png": "[encoded data removed]",
      "text/plain": [
       "<matplotlib.figure.Figure at 0x7fab56fba208>"
      ]
     },
     "metadata": {},
     "output_type": "display_data"
    }
   ],
   "source": [
    "thinkplot.contour(hyraxSuite)"
   ]
  },
  {
   "cell_type": "markdown",
   "metadata": {},
   "source": [
    "\n",
    "\n",
    "So what if we had 3 species of hyraxes. Species 1 is more curious and therefore is caught more easily. Species 2 is not as curious as Species 1, while Species 3 is extremely rare to catch. Suppose that in the first round of tagging, you tagged 10 specimens of Species 1, 6 specimens of Species 3, and 1 specimen of Species 2. In the second round of tagging, you catch 20 hyraxes and 10 of them are tagged.\n",
    "\n",
    "We could ask several questions: how many of each species did you catch in the second round? what is the population of each of species? These questions are interdependent, because to estimate how many species we caught in each round, we need to know how many of their species exist to find the likelihood that they were captured.\n",
    "\n",
    "Supposed that we caught 10 Species 1, 7 Species 2, and 3 Species 3\n",
    "Also, supposed that there are 50 Species 1, 30 Species 2, and 15 Species 3 in total.\n",
    "\n",
    "Let's deliminate our variables similarly to the previous example:\n",
    ">*  `Ni`: total population of hyraxes of Species i\n",
    ">*  `Ki`: number of Species i tagged in the first round\n",
    ">*  `ni`: number of Species i caught in the second round\n",
    ">*  `ki`: number of Species i in the second round that had been tagged\n",
    "\n",
    "We know Ni, Ki, and ki. We do not know how many of each type of hyrax is tagged. Let's do a simpler example first where we only have 2 species, Species 1 and 2. If 10 are tagged in total, then k1 + k2 = 10. We loop through all of the possibilities of such combinations and add their likelihoods:"
   ]
  },
  {
   "cell_type": "code",
   "execution_count": 38,
   "metadata": {
    "collapsed": false
   },
   "outputs": [
    {
     "name": "stdout",
     "output_type": "stream",
     "text": [
      "5.50523394115e-05\n"
     ]
    }
   ],
   "source": [
    "N1 = 50\n",
    "K1 = 10\n",
    "n1 = 10\n",
    "\n",
    "N2 = 30\n",
    "K2 = 6\n",
    "n2 = 7\n",
    "\n",
    "total_tagged = 10\n",
    "\n",
    "like = 0\n",
    "all_k1s = range(0, K1)\n",
    "for k1 in all_k1s:\n",
    "    k2 = total_tagged - k1\n",
    "    like1 = EvalHypergeomPmf(k1, N1, K1, n1)\n",
    "    like2 = EvalHypergeomPmf(k2, N2, K2, n2)\n",
    "    like += like1 * like2\n",
    "print(like)\n"
   ]
  },
  {
   "cell_type": "markdown",
   "metadata": {},
   "source": [
    "We can only catch a number of tagged hyraxes equal to or lower than the total number of them tagged. Therefore, k1 must be less than the total tagged hyraxes for Species 1 (K1). Knowing k1, we know k2 because we know how many tagged hyraxes we caught. From there, we use the hypergeometric combination in the same as we did for one species of hyrax and multiply the likelihoods together: we want to know the likelihood that k1 of Species 1 were tagged AND k2 of Species 2 were tagged.\n",
    "\n",
    "The process for finding the likelihood that the hyraxes are distributed in a certain way is the same for all 3 species:"
   ]
  },
  {
   "cell_type": "code",
   "execution_count": 42,
   "metadata": {
    "collapsed": false
   },
   "outputs": [
    {
     "name": "stdout",
     "output_type": "stream",
     "text": [
      "0.000150722860779\n"
     ]
    }
   ],
   "source": [
    "N1 = 50\n",
    "K1 = 10\n",
    "n1 = 10\n",
    "\n",
    "N2 = 30\n",
    "K2 = 6\n",
    "n2 = 7\n",
    "\n",
    "N3 = 15\n",
    "K3 = 1\n",
    "n3 = 3\n",
    "\n",
    "total_tagged = 10\n",
    "like = 0\n",
    "\n",
    "all_k1s = range(0, K1)\n",
    "all_k2s = range(0, K2)\n",
    "\n",
    "for k1 in all_k1s:\n",
    "    for k2 in all_k2s:\n",
    "        k3 = total_tagged - k1 - k2\n",
    "        if k3 >= 0: # otherwise k1 + k2 > n\n",
    "            like1 = EvalHypergeomPmf(k1, N1, K1, n1)\n",
    "            like2 = EvalHypergeomPmf(k2, N2, K2, n2)\n",
    "            like3 = EvalHypergeomPmf(k3, N3, K3, n3)\n",
    "            like += like1 * like2 * like3\n",
    "print(like)"
   ]
  },
  {
   "cell_type": "markdown",
   "metadata": {},
   "source": [
    "We do not actually know the distribution of the hyrax species (n1, n2, n3). However, we now have a way of determining how probable a distribution is. The only problem is that this likelihood is dependent on the population distribution of each Species. We therefore have 5 variables, n1, n2, N1, N2, and N3. n3 we can compute easily because we know how many total hyraxes we caught (n), so it will simply be n - n1 - n2.\n",
    "\n",
    "But the problem is not that there is 5 variables. It is that the likelihood of a hyrax distribution is dependent on the distribution of the populations and vice versa. We could modify our RockHyrax class from before to take in a specific K value and in this way create the N1, N2, and N3 distribution suites.\n",
    "\n",
    "I am not very sure how to proceed from here. If I have a population distribution N1, then depending on the likelihood of each N1, the likelihood of a hyrax distribution is affected. On the other hand, the likelihood of a hyrax distribution also has an effect on the probability of that distribution, because the update function for a population distribution is dependent on how many hyraxes you caught and how many were tagged of that species! So it seems like you kind of have to do two things at the same time! Or can we abstract it to saying that the likelihood of the population only depends on the likelihood of the hyrax distributions? If I know the hyrax distribution, what is the population distributions? I simply update each population suite with the corresponding distribution as we did in the first part. But what happens when I have multiple hyrax distributions? I need to create a mixture of the possible population distributions. But, to get the many hyrax distributions and their likelihoods, I need to loop through every value of a population distribution.\n",
    "\n",
    "I have a feeling there is a more correct way to do this, so I will leave this problem as it is for now. Below are the possible classes that I would use to keep on solving this problem."
   ]
  },
  {
   "cell_type": "code",
   "execution_count": null,
   "metadata": {
    "collapsed": true
   },
   "outputs": [],
   "source": [
    "class HyraxDistribution(Suite, Joint)\n",
    "    ''' data: (n, k) n: total number of caught hyraxes, k: number of caught tagged hyraxes\n",
    "        hypo: (n1, n2, N1, N2, N3) where n1: number of caught Species 1, n2: number of caught Species 2,\n",
    "            N1: Species 1 population, N2: Species 2 population, N3: Species 3 population\n",
    "        returns: likelihood that we caught n hyraxes with k tagged given a distribution of the caught hyraxes\n",
    "            and their respective populations\n",
    "        '''\n",
    "    def Likelihood(self, data, hypo):\n",
    "        n, k = data\n",
    "        n1, n2, N1, N2, N3 = hypo\n",
    "        K1, K2, K3 = (10, 6, 1)\n",
    "        n3 = n - n1 - n2\n",
    "\n",
    "        like = 0\n",
    "        all_k1s = range(0, K1)\n",
    "        all_k2s = range(0, K2)\n",
    "        for k1 in all_k1s:\n",
    "            for k2 in all_k2s:\n",
    "                k3 = total_tagged - k1 - k2\n",
    "                if k3 >= 0: # otherwise k1 + k2 > n\n",
    "                    like1 = EvalHypergeomPmf(k1, N1, K1, n1)\n",
    "                    like2 = EvalHypergeomPmf(k2, N2, K2, n2)\n",
    "                    like3 = EvalHypergeomPmf(k3, N3, K3, n3)\n",
    "                    like += like1 * like2 * like3\n",
    "        return like\n",
    "\n",
    "\n",
    "class RockHyrax(Suite, Joint):\n",
    "    '''Init the same way as any Suite.\n",
    "    Also, include variable K which will be different for every Species'''\n",
    "    def __init__(self, Ns, K):\n",
    "        Pmf.__init__(self)\n",
    "        self.K = K\n",
    "        for N in Ns:\n",
    "            self.Set(N, 1)\n",
    "        self.Normalize()\n",
    "    \n",
    "    '''data: (n, k) where n is the number of hyraxes caught and k is the number of caught tagged hyraxes\n",
    "    hypo: N where N is the total number of hyraxes\n",
    "    returns: Probability of catching k tagged hyraxes out of n caught if N is the number of total hyraxes'''\n",
    "    def Likelihood(self, data, hypo):\n",
    "        n, k = data\n",
    "        N = hypo\n",
    "        # If you caught more hyraxes than there are, or more tagged hyraxes than you tagged, that's impossible\n",
    "        # If you tagged more hyraxes than there are, this is also impossible\n",
    "        if self.K > N or n > N or k > self.K:\n",
    "            return 0\n",
    "        return EvalHypergeomPmf(k, N, self.K, n)\n",
    "\n",
    "numHyraxes = np.linspace(18, 1000, 1000-18+1)\n",
    "species1 = RockHyrax(numHyraxes, 10)\n",
    "species2 = RockHyrax(numHyraxes, 6)\n",
    "species3 = RockHyrax(numHyraxes, 1)"
   ]
  },
  {
   "cell_type": "markdown",
   "metadata": {},
   "source": [
    "This work is licensed under a <a rel=\"license\" href=\"http://creativecommons.org/licenses/by/4.0/\">Creative Commons Attribution 4.0 International License</a>."
   ]
  },
  {
   "cell_type": "code",
   "execution_count": null,
   "metadata": {
    "collapsed": true
   },
   "outputs": [],
   "source": []
  }
 ],
 "metadata": {
  "anaconda-cloud": {},
  "kernelspec": {
   "display_name": "Python [Root]",
   "language": "python",
   "name": "Python [Root]"
  },
  "language_info": {
   "codemirror_mode": {
    "name": "ipython",
    "version": 3
   },
   "file_extension": ".py",
   "mimetype": "text/x-python",
   "name": "python",
   "nbconvert_exporter": "python",
   "pygments_lexer": "ipython3",
   "version": "3.5.2"
  }
 },
 "nbformat": 4,
 "nbformat_minor": 0
}
